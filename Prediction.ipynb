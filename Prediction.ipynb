{
 "cells": [
  {
   "cell_type": "markdown",
   "metadata": {},
   "source": [
    "# BigContest Prediction"
   ]
  },
  {
   "cell_type": "markdown",
   "metadata": {},
   "source": [
    "# 1. Load library"
   ]
  },
  {
   "cell_type": "code",
   "execution_count": 3,
   "metadata": {},
   "outputs": [],
   "source": [
    "library(data.table) # Data load\n",
    "library(dplyr) # Preprocessing\n",
    "library(tidyr) # Preprocessing\n",
    "library(caret) # Modeling\n",
    "library(party) # Decision Tree\n",
    "library(randomForest) # Random Forest"
   ]
  },
  {
   "cell_type": "code",
   "execution_count": 4,
   "metadata": {},
   "outputs": [],
   "source": [
    "theme_set(theme_bw())\n",
    "options(repr.plot.width=10, repr.plot.height=7, warn = -1)"
   ]
  },
  {
   "cell_type": "markdown",
   "metadata": {},
   "source": [
    "# 2. Load data"
   ]
  },
  {
   "cell_type": "code",
   "execution_count": 5,
   "metadata": {},
   "outputs": [
    {
     "name": "stdout",
     "output_type": "stream",
     "text": [
      "Read 440323 rows and 39 (of 39) columns from 0.305 GB file in 00:00:19\n",
      "Read 800000 rows and 4 (of 4) columns from 0.071 GB file in 00:00:03\n"
     ]
    }
   ],
   "source": [
    "activity <- fread(\"data/futureleague/reform/train_activity_new.csv\", stringsAsFactors = F)\n",
    "guild    <- fread(\"data/futureleague/reform/train_guild_new.csv\", stringsAsFactors = F)\n",
    "label    <- fread(\"data/futureleague/reform/train_label.csv\", stringsAsFactors = F)\n",
    "payment  <- fread(\"data/futureleague/reform/train_payment_new.csv\", stringsAsFactors = F)"
   ]
  },
  {
   "cell_type": "markdown",
   "metadata": {},
   "source": [
    "# 3. Predefined functions"
   ]
  },
  {
   "cell_type": "code",
   "execution_count": 6,
   "metadata": {},
   "outputs": [],
   "source": [
    "# Predict churn using Logistic Regressin / Decision Tree / Randomforest without parameter tuning\n",
    "predict_churn <- function(df, name, binary = T) {\n",
    "  if (binary == T) {\n",
    "    df <- df %>% mutate(label = ifelse(label == \"retained\", \"0\", \"1\") %>% factor())\n",
    "    target <- \"2-Class\"\n",
    "  } else {\n",
    "    df <- df %>% mutate(label = factor(label))\n",
    "    target <- \"4-Class\"\n",
    "  }\n",
    "  \n",
    "  # Split\n",
    "  train_id <- createDataPartition(df$label, p = 0.7, list = F)\n",
    "  train    <- df[train_id,]\n",
    "  test     <- df[-train_id,]\n",
    "  \n",
    "  # Modeling\n",
    "  formula <- formula(label ~ .)\n",
    "  \n",
    "  dt.fit  <- ctree(formula, data = train)\n",
    "  rf.fit  <- randomForest(formula, data = train)\n",
    "  \n",
    "  # predict\n",
    "  dt.pred <- predict(dt.fit, test)\n",
    "  rf.pred <- predict(rf.fit, test)\n",
    "  \n",
    "  # Result\n",
    "  dt.result  <- confusionMatrix(dt.pred, test$label, positive = \"1\", mode = \"everything\")\n",
    "  rf.result  <- confusionMatrix(rf.pred, test$label, positive = \"1\", mode = \"everything\")\n",
    "  \n",
    "  if (binary == T) {\n",
    "    glm.fit <- glm(formula, data = train, family = \"binomial\")\n",
    "    \n",
    "    glm.prob <- predict(glm.fit, test, type = \"response\")\n",
    "    glm.pred <- factor(ifelse(glm.prob > 0.5, 1, 0))\n",
    "    \n",
    "    glm.result <- confusionMatrix(glm.pred, test$label, positive = \"1\", mode = \"everything\")\n",
    "    \n",
    "    return(list(data = name,\n",
    "                target = target,\n",
    "                glm.model = glm.fit,\n",
    "                dt.model = dt.fit,\n",
    "                rf.model = rf.fit,\n",
    "                logistic = glm.result, \n",
    "                decision.tree = dt.result, \n",
    "                randomforest = rf.result))\n",
    "  } else {\n",
    "    return(list(data = name,\n",
    "                target = target,\n",
    "                dt.model = dt.fit,\n",
    "                rf.model = rf.fit,\n",
    "                decision.tree = dt.result, \n",
    "                randomforest = rf.result))\n",
    "  }\n",
    "}"
   ]
  },
  {
   "cell_type": "code",
   "execution_count": 7,
   "metadata": {},
   "outputs": [],
   "source": [
    "# Create result data frame\n",
    "summarize_result <- function(result) {\n",
    "  if (length(result) == 8) {\n",
    "    result <- data.frame(data = rep(result$data, 3),\n",
    "                         target = rep(result$target, 3),\n",
    "                         method = c(\"logistic\", \"decision tree\", \"random forest\"),\n",
    "                         accuracy = c(result$logistic$overall[\"Accuracy\"],\n",
    "                                      result$decision.tree$overall[\"Accuracy\"],\n",
    "                                      result$randomforest$overall[\"Accuracy\"]),\n",
    "                         F1 = c(result$logistic$byClass[\"F1\"],\n",
    "                                result$decision.tree$byClass[\"F1\"],\n",
    "                                result$randomforest$byClass[\"F1\"]), \n",
    "                        stringsAsFactors = F)\n",
    "  } else if (length(result) == 6) {\n",
    "    result <- data.frame(data = rep(result$data, 3),\n",
    "                         target = rep(result$target, 3),\n",
    "                         method = c(\"logistic\", \"decision tree\", \"random forest\"),\n",
    "                         accuracy = c(NA,\n",
    "                                      result$decision.tree$overall[\"Accuracy\"],\n",
    "                                      result$randomforest$overall[\"Accuracy\"]),\n",
    "                         F1 = c(NA,\n",
    "                                result$decision.tree$byClass[, \"F1\"] %>% mean(na.rm = T),\n",
    "                                result$decision.tree$byClass[, \"F1\"] %>% mean(na.rm = T)), \n",
    "                        stringsAsFactors = F)\n",
    "  } else {\n",
    "    print(\"0\")\n",
    "  }\n",
    "    return(result)\n",
    "}"
   ]
  },
  {
   "cell_type": "markdown",
   "metadata": {},
   "source": [
    "# 4. Transform data"
   ]
  },
  {
   "cell_type": "markdown",
   "metadata": {},
   "source": [
    "## 4.1 Create payment variables"
   ]
  },
  {
   "cell_type": "code",
   "execution_count": 8,
   "metadata": {},
   "outputs": [
    {
     "data": {
      "text/html": [
       "<table>\n",
       "<thead><tr><th scope=col>acc_id</th><th scope=col>payment_mean</th></tr></thead>\n",
       "<tbody>\n",
       "\t<tr><td>0000264b01392acfde44f9d8494f112a701dc5d3e5fda6ad090cb205727637e0</td><td>-0.1498985                                                      </td></tr>\n",
       "\t<tr><td>0001f130e89288ff0df167b998f6eb7085687f411fcb72440d8a55fb2c0eabc8</td><td>-0.1498985                                                      </td></tr>\n",
       "\t<tr><td>00028f0ad71c07f48aef465fd0c98ba6e3f0f3de3d2f7d14c975f794dfb31e2b</td><td>-0.1498985                                                      </td></tr>\n",
       "\t<tr><td>00036e5b6a197c196fa10fc0ad4e2853b22294dff64d2735a2795ab3858d5b7a</td><td>-0.1498985                                                      </td></tr>\n",
       "\t<tr><td>00037fe8e712041a476b8b1b827583cbc34895844057f03da985c953f567e0f2</td><td>-0.1498985                                                      </td></tr>\n",
       "\t<tr><td>0003b127aa1c0c34490db8817574482464aad9f99cffde4d3e51790dff2cb6ca</td><td>-0.1498985                                                      </td></tr>\n",
       "</tbody>\n",
       "</table>\n"
      ],
      "text/latex": [
       "\\begin{tabular}{r|ll}\n",
       " acc\\_id & payment\\_mean\\\\\n",
       "\\hline\n",
       "\t 0000264b01392acfde44f9d8494f112a701dc5d3e5fda6ad090cb205727637e0 & -0.1498985                                                      \\\\\n",
       "\t 0001f130e89288ff0df167b998f6eb7085687f411fcb72440d8a55fb2c0eabc8 & -0.1498985                                                      \\\\\n",
       "\t 00028f0ad71c07f48aef465fd0c98ba6e3f0f3de3d2f7d14c975f794dfb31e2b & -0.1498985                                                      \\\\\n",
       "\t 00036e5b6a197c196fa10fc0ad4e2853b22294dff64d2735a2795ab3858d5b7a & -0.1498985                                                      \\\\\n",
       "\t 00037fe8e712041a476b8b1b827583cbc34895844057f03da985c953f567e0f2 & -0.1498985                                                      \\\\\n",
       "\t 0003b127aa1c0c34490db8817574482464aad9f99cffde4d3e51790dff2cb6ca & -0.1498985                                                      \\\\\n",
       "\\end{tabular}\n"
      ],
      "text/markdown": [
       "\n",
       "acc_id | payment_mean | \n",
       "|---|---|---|---|---|---|\n",
       "| 0000264b01392acfde44f9d8494f112a701dc5d3e5fda6ad090cb205727637e0 | -0.1498985                                                       | \n",
       "| 0001f130e89288ff0df167b998f6eb7085687f411fcb72440d8a55fb2c0eabc8 | -0.1498985                                                       | \n",
       "| 00028f0ad71c07f48aef465fd0c98ba6e3f0f3de3d2f7d14c975f794dfb31e2b | -0.1498985                                                       | \n",
       "| 00036e5b6a197c196fa10fc0ad4e2853b22294dff64d2735a2795ab3858d5b7a | -0.1498985                                                       | \n",
       "| 00037fe8e712041a476b8b1b827583cbc34895844057f03da985c953f567e0f2 | -0.1498985                                                       | \n",
       "| 0003b127aa1c0c34490db8817574482464aad9f99cffde4d3e51790dff2cb6ca | -0.1498985                                                       | \n",
       "\n",
       "\n"
      ],
      "text/plain": [
       "  acc_id                                                           payment_mean\n",
       "1 0000264b01392acfde44f9d8494f112a701dc5d3e5fda6ad090cb205727637e0 -0.1498985  \n",
       "2 0001f130e89288ff0df167b998f6eb7085687f411fcb72440d8a55fb2c0eabc8 -0.1498985  \n",
       "3 00028f0ad71c07f48aef465fd0c98ba6e3f0f3de3d2f7d14c975f794dfb31e2b -0.1498985  \n",
       "4 00036e5b6a197c196fa10fc0ad4e2853b22294dff64d2735a2795ab3858d5b7a -0.1498985  \n",
       "5 00037fe8e712041a476b8b1b827583cbc34895844057f03da985c953f567e0f2 -0.1498985  \n",
       "6 0003b127aa1c0c34490db8817574482464aad9f99cffde4d3e51790dff2cb6ca -0.1498985  "
      ]
     },
     "metadata": {},
     "output_type": "display_data"
    }
   ],
   "source": [
    "pay <- payment %>% group_by(acc_id) %>%\n",
    "  summarize(payment_mean = mean(payment_amount))\n",
    "head(pay)"
   ]
  },
  {
   "cell_type": "markdown",
   "metadata": {},
   "source": [
    "## 4.2 Create guild varibles"
   ]
  },
  {
   "cell_type": "code",
   "execution_count": 9,
   "metadata": {},
   "outputs": [
    {
     "data": {
      "text/html": [
       "<table>\n",
       "<thead><tr><th scope=col>acc_id</th><th scope=col>join_num</th></tr></thead>\n",
       "<tbody>\n",
       "\t<tr><td>000201ba3f72429177413620a3d22dfb348f21622fa7b67e2be2fbf4b06b21f6</td><td>1                                                               </td></tr>\n",
       "\t<tr><td>0007838a3f353aa4a4c938d42ee43a2fa51b03557e624abc6d3ef2375588bd7c</td><td>1                                                               </td></tr>\n",
       "\t<tr><td>00099da993f9a00f3c6575d844d4bf79a658d1e5845a8a17670641e5d15b1be2</td><td>1                                                               </td></tr>\n",
       "\t<tr><td>000af534394783c3a1d28414ce6adc95af45657e34bf7045d41a7ec5cf1ad32f</td><td>1                                                               </td></tr>\n",
       "\t<tr><td>000c7d37960d5261d7680320227e07e53580f654cf0322045a34d50b643a7a1b</td><td>1                                                               </td></tr>\n",
       "\t<tr><td>000f75da470b53684a56be7c49083451cfa58db4573900af1ebe8ad1b1b2be37</td><td>1                                                               </td></tr>\n",
       "</tbody>\n",
       "</table>\n"
      ],
      "text/latex": [
       "\\begin{tabular}{r|ll}\n",
       " acc\\_id & join\\_num\\\\\n",
       "\\hline\n",
       "\t 000201ba3f72429177413620a3d22dfb348f21622fa7b67e2be2fbf4b06b21f6 & 1                                                               \\\\\n",
       "\t 0007838a3f353aa4a4c938d42ee43a2fa51b03557e624abc6d3ef2375588bd7c & 1                                                               \\\\\n",
       "\t 00099da993f9a00f3c6575d844d4bf79a658d1e5845a8a17670641e5d15b1be2 & 1                                                               \\\\\n",
       "\t 000af534394783c3a1d28414ce6adc95af45657e34bf7045d41a7ec5cf1ad32f & 1                                                               \\\\\n",
       "\t 000c7d37960d5261d7680320227e07e53580f654cf0322045a34d50b643a7a1b & 1                                                               \\\\\n",
       "\t 000f75da470b53684a56be7c49083451cfa58db4573900af1ebe8ad1b1b2be37 & 1                                                               \\\\\n",
       "\\end{tabular}\n"
      ],
      "text/markdown": [
       "\n",
       "acc_id | join_num | \n",
       "|---|---|---|---|---|---|\n",
       "| 000201ba3f72429177413620a3d22dfb348f21622fa7b67e2be2fbf4b06b21f6 | 1                                                                | \n",
       "| 0007838a3f353aa4a4c938d42ee43a2fa51b03557e624abc6d3ef2375588bd7c | 1                                                                | \n",
       "| 00099da993f9a00f3c6575d844d4bf79a658d1e5845a8a17670641e5d15b1be2 | 1                                                                | \n",
       "| 000af534394783c3a1d28414ce6adc95af45657e34bf7045d41a7ec5cf1ad32f | 1                                                                | \n",
       "| 000c7d37960d5261d7680320227e07e53580f654cf0322045a34d50b643a7a1b | 1                                                                | \n",
       "| 000f75da470b53684a56be7c49083451cfa58db4573900af1ebe8ad1b1b2be37 | 1                                                                | \n",
       "\n",
       "\n"
      ],
      "text/plain": [
       "  acc_id                                                           join_num\n",
       "1 000201ba3f72429177413620a3d22dfb348f21622fa7b67e2be2fbf4b06b21f6 1       \n",
       "2 0007838a3f353aa4a4c938d42ee43a2fa51b03557e624abc6d3ef2375588bd7c 1       \n",
       "3 00099da993f9a00f3c6575d844d4bf79a658d1e5845a8a17670641e5d15b1be2 1       \n",
       "4 000af534394783c3a1d28414ce6adc95af45657e34bf7045d41a7ec5cf1ad32f 1       \n",
       "5 000c7d37960d5261d7680320227e07e53580f654cf0322045a34d50b643a7a1b 1       \n",
       "6 000f75da470b53684a56be7c49083451cfa58db4573900af1ebe8ad1b1b2be37 1       "
      ]
     },
     "metadata": {},
     "output_type": "display_data"
    }
   ],
   "source": [
    "guild_join <- guild %>% group_by(acc_id) %>% summarize(join_num = n())\n",
    "head(guild_join)"
   ]
  },
  {
   "cell_type": "markdown",
   "metadata": {},
   "source": [
    "## 4.3 Create time variables"
   ]
  },
  {
   "cell_type": "code",
   "execution_count": 10,
   "metadata": {
    "scrolled": false
   },
   "outputs": [
    {
     "data": {
      "text/html": [
       "<table>\n",
       "<thead><tr><th scope=col>acc_id</th><th scope=col>wk_num</th><th scope=col>access_mean</th><th scope=col>time_mean</th></tr></thead>\n",
       "<tbody>\n",
       "\t<tr><td>0000264b01392acfde44f9d8494f112a701dc5d3e5fda6ad090cb205727637e0</td><td>2                                                               </td><td>6.000000                                                        </td><td> 3.6274881                                                      </td></tr>\n",
       "\t<tr><td>0001f130e89288ff0df167b998f6eb7085687f411fcb72440d8a55fb2c0eabc8</td><td>8                                                               </td><td>3.125000                                                        </td><td>-0.6606956                                                      </td></tr>\n",
       "\t<tr><td>00028f0ad71c07f48aef465fd0c98ba6e3f0f3de3d2f7d14c975f794dfb31e2b</td><td>5                                                               </td><td>2.400000                                                        </td><td>-0.6570603                                                      </td></tr>\n",
       "\t<tr><td>00036e5b6a197c196fa10fc0ad4e2853b22294dff64d2735a2795ab3858d5b7a</td><td>6                                                               </td><td>5.166667                                                        </td><td>-0.5031993                                                      </td></tr>\n",
       "\t<tr><td>00037fe8e712041a476b8b1b827583cbc34895844057f03da985c953f567e0f2</td><td>2                                                               </td><td>1.500000                                                        </td><td>-0.6552137                                                      </td></tr>\n",
       "\t<tr><td>0003b127aa1c0c34490db8817574482464aad9f99cffde4d3e51790dff2cb6ca</td><td>8                                                               </td><td>4.875000                                                        </td><td>-0.4864409                                                      </td></tr>\n",
       "</tbody>\n",
       "</table>\n"
      ],
      "text/latex": [
       "\\begin{tabular}{r|llll}\n",
       " acc\\_id & wk\\_num & access\\_mean & time\\_mean\\\\\n",
       "\\hline\n",
       "\t 0000264b01392acfde44f9d8494f112a701dc5d3e5fda6ad090cb205727637e0 & 2                                                                & 6.000000                                                         &  3.6274881                                                      \\\\\n",
       "\t 0001f130e89288ff0df167b998f6eb7085687f411fcb72440d8a55fb2c0eabc8 & 8                                                                & 3.125000                                                         & -0.6606956                                                      \\\\\n",
       "\t 00028f0ad71c07f48aef465fd0c98ba6e3f0f3de3d2f7d14c975f794dfb31e2b & 5                                                                & 2.400000                                                         & -0.6570603                                                      \\\\\n",
       "\t 00036e5b6a197c196fa10fc0ad4e2853b22294dff64d2735a2795ab3858d5b7a & 6                                                                & 5.166667                                                         & -0.5031993                                                      \\\\\n",
       "\t 00037fe8e712041a476b8b1b827583cbc34895844057f03da985c953f567e0f2 & 2                                                                & 1.500000                                                         & -0.6552137                                                      \\\\\n",
       "\t 0003b127aa1c0c34490db8817574482464aad9f99cffde4d3e51790dff2cb6ca & 8                                                                & 4.875000                                                         & -0.4864409                                                      \\\\\n",
       "\\end{tabular}\n"
      ],
      "text/markdown": [
       "\n",
       "acc_id | wk_num | access_mean | time_mean | \n",
       "|---|---|---|---|---|---|\n",
       "| 0000264b01392acfde44f9d8494f112a701dc5d3e5fda6ad090cb205727637e0 | 2                                                                | 6.000000                                                         |  3.6274881                                                       | \n",
       "| 0001f130e89288ff0df167b998f6eb7085687f411fcb72440d8a55fb2c0eabc8 | 8                                                                | 3.125000                                                         | -0.6606956                                                       | \n",
       "| 00028f0ad71c07f48aef465fd0c98ba6e3f0f3de3d2f7d14c975f794dfb31e2b | 5                                                                | 2.400000                                                         | -0.6570603                                                       | \n",
       "| 00036e5b6a197c196fa10fc0ad4e2853b22294dff64d2735a2795ab3858d5b7a | 6                                                                | 5.166667                                                         | -0.5031993                                                       | \n",
       "| 00037fe8e712041a476b8b1b827583cbc34895844057f03da985c953f567e0f2 | 2                                                                | 1.500000                                                         | -0.6552137                                                       | \n",
       "| 0003b127aa1c0c34490db8817574482464aad9f99cffde4d3e51790dff2cb6ca | 8                                                                | 4.875000                                                         | -0.4864409                                                       | \n",
       "\n",
       "\n"
      ],
      "text/plain": [
       "  acc_id                                                           wk_num\n",
       "1 0000264b01392acfde44f9d8494f112a701dc5d3e5fda6ad090cb205727637e0 2     \n",
       "2 0001f130e89288ff0df167b998f6eb7085687f411fcb72440d8a55fb2c0eabc8 8     \n",
       "3 00028f0ad71c07f48aef465fd0c98ba6e3f0f3de3d2f7d14c975f794dfb31e2b 5     \n",
       "4 00036e5b6a197c196fa10fc0ad4e2853b22294dff64d2735a2795ab3858d5b7a 6     \n",
       "5 00037fe8e712041a476b8b1b827583cbc34895844057f03da985c953f567e0f2 2     \n",
       "6 0003b127aa1c0c34490db8817574482464aad9f99cffde4d3e51790dff2cb6ca 8     \n",
       "  access_mean time_mean \n",
       "1 6.000000     3.6274881\n",
       "2 3.125000    -0.6606956\n",
       "3 2.400000    -0.6570603\n",
       "4 5.166667    -0.5031993\n",
       "5 1.500000    -0.6552137\n",
       "6 4.875000    -0.4864409"
      ]
     },
     "metadata": {},
     "output_type": "display_data"
    }
   ],
   "source": [
    "time <- activity %>% group_by(acc_id) %>%\n",
    "  summarize(wk_num = n(),\n",
    "            access_mean = mean(cnt_dt),\n",
    "            time_mean = mean(play_time))\n",
    "head(time)"
   ]
  },
  {
   "cell_type": "code",
   "execution_count": 11,
   "metadata": {},
   "outputs": [
    {
     "data": {
      "text/html": [
       "<table>\n",
       "<thead><tr><th scope=col>acc_id</th><th scope=col>wk1</th><th scope=col>wk2</th><th scope=col>wk3</th><th scope=col>wk4</th><th scope=col>wk5</th><th scope=col>wk6</th></tr></thead>\n",
       "<tbody>\n",
       "\t<tr><td>0000264b01392acfde44f9d8494f112a701dc5d3e5fda6ad090cb205727637e0</td><td>0                                                               </td><td>0                                                               </td><td>0                                                               </td><td>0                                                               </td><td>0                                                               </td><td>0                                                               </td></tr>\n",
       "\t<tr><td>0001f130e89288ff0df167b998f6eb7085687f411fcb72440d8a55fb2c0eabc8</td><td>1                                                               </td><td>1                                                               </td><td>1                                                               </td><td>1                                                               </td><td>1                                                               </td><td>1                                                               </td></tr>\n",
       "\t<tr><td>00028f0ad71c07f48aef465fd0c98ba6e3f0f3de3d2f7d14c975f794dfb31e2b</td><td>0                                                               </td><td>0                                                               </td><td>1                                                               </td><td>1                                                               </td><td>1                                                               </td><td>0                                                               </td></tr>\n",
       "\t<tr><td>00036e5b6a197c196fa10fc0ad4e2853b22294dff64d2735a2795ab3858d5b7a</td><td>1                                                               </td><td>0                                                               </td><td>1                                                               </td><td>1                                                               </td><td>0                                                               </td><td>1                                                               </td></tr>\n",
       "\t<tr><td>00037fe8e712041a476b8b1b827583cbc34895844057f03da985c953f567e0f2</td><td>0                                                               </td><td>1                                                               </td><td>0                                                               </td><td>0                                                               </td><td>0                                                               </td><td>0                                                               </td></tr>\n",
       "\t<tr><td>0003b127aa1c0c34490db8817574482464aad9f99cffde4d3e51790dff2cb6ca</td><td>1                                                               </td><td>1                                                               </td><td>1                                                               </td><td>1                                                               </td><td>1                                                               </td><td>1                                                               </td></tr>\n",
       "</tbody>\n",
       "</table>\n"
      ],
      "text/latex": [
       "\\begin{tabular}{r|lllllll}\n",
       " acc\\_id & wk1 & wk2 & wk3 & wk4 & wk5 & wk6\\\\\n",
       "\\hline\n",
       "\t 0000264b01392acfde44f9d8494f112a701dc5d3e5fda6ad090cb205727637e0 & 0                                                                & 0                                                                & 0                                                                & 0                                                                & 0                                                                & 0                                                               \\\\\n",
       "\t 0001f130e89288ff0df167b998f6eb7085687f411fcb72440d8a55fb2c0eabc8 & 1                                                                & 1                                                                & 1                                                                & 1                                                                & 1                                                                & 1                                                               \\\\\n",
       "\t 00028f0ad71c07f48aef465fd0c98ba6e3f0f3de3d2f7d14c975f794dfb31e2b & 0                                                                & 0                                                                & 1                                                                & 1                                                                & 1                                                                & 0                                                               \\\\\n",
       "\t 00036e5b6a197c196fa10fc0ad4e2853b22294dff64d2735a2795ab3858d5b7a & 1                                                                & 0                                                                & 1                                                                & 1                                                                & 0                                                                & 1                                                               \\\\\n",
       "\t 00037fe8e712041a476b8b1b827583cbc34895844057f03da985c953f567e0f2 & 0                                                                & 1                                                                & 0                                                                & 0                                                                & 0                                                                & 0                                                               \\\\\n",
       "\t 0003b127aa1c0c34490db8817574482464aad9f99cffde4d3e51790dff2cb6ca & 1                                                                & 1                                                                & 1                                                                & 1                                                                & 1                                                                & 1                                                               \\\\\n",
       "\\end{tabular}\n"
      ],
      "text/markdown": [
       "\n",
       "acc_id | wk1 | wk2 | wk3 | wk4 | wk5 | wk6 | \n",
       "|---|---|---|---|---|---|\n",
       "| 0000264b01392acfde44f9d8494f112a701dc5d3e5fda6ad090cb205727637e0 | 0                                                                | 0                                                                | 0                                                                | 0                                                                | 0                                                                | 0                                                                | \n",
       "| 0001f130e89288ff0df167b998f6eb7085687f411fcb72440d8a55fb2c0eabc8 | 1                                                                | 1                                                                | 1                                                                | 1                                                                | 1                                                                | 1                                                                | \n",
       "| 00028f0ad71c07f48aef465fd0c98ba6e3f0f3de3d2f7d14c975f794dfb31e2b | 0                                                                | 0                                                                | 1                                                                | 1                                                                | 1                                                                | 0                                                                | \n",
       "| 00036e5b6a197c196fa10fc0ad4e2853b22294dff64d2735a2795ab3858d5b7a | 1                                                                | 0                                                                | 1                                                                | 1                                                                | 0                                                                | 1                                                                | \n",
       "| 00037fe8e712041a476b8b1b827583cbc34895844057f03da985c953f567e0f2 | 0                                                                | 1                                                                | 0                                                                | 0                                                                | 0                                                                | 0                                                                | \n",
       "| 0003b127aa1c0c34490db8817574482464aad9f99cffde4d3e51790dff2cb6ca | 1                                                                | 1                                                                | 1                                                                | 1                                                                | 1                                                                | 1                                                                | \n",
       "\n",
       "\n"
      ],
      "text/plain": [
       "  acc_id                                                           wk1 wk2 wk3\n",
       "1 0000264b01392acfde44f9d8494f112a701dc5d3e5fda6ad090cb205727637e0 0   0   0  \n",
       "2 0001f130e89288ff0df167b998f6eb7085687f411fcb72440d8a55fb2c0eabc8 1   1   1  \n",
       "3 00028f0ad71c07f48aef465fd0c98ba6e3f0f3de3d2f7d14c975f794dfb31e2b 0   0   1  \n",
       "4 00036e5b6a197c196fa10fc0ad4e2853b22294dff64d2735a2795ab3858d5b7a 1   0   1  \n",
       "5 00037fe8e712041a476b8b1b827583cbc34895844057f03da985c953f567e0f2 0   1   0  \n",
       "6 0003b127aa1c0c34490db8817574482464aad9f99cffde4d3e51790dff2cb6ca 1   1   1  \n",
       "  wk4 wk5 wk6\n",
       "1 0   0   0  \n",
       "2 1   1   1  \n",
       "3 1   1   0  \n",
       "4 1   0   1  \n",
       "5 0   0   0  \n",
       "6 1   1   1  "
      ]
     },
     "metadata": {},
     "output_type": "display_data"
    }
   ],
   "source": [
    "week <- activity %>% select(acc_id, wk) %>% \n",
    "  mutate(value = 1) %>% spread(key = \"wk\", value = \"value\") %>%\n",
    "  select(-c(8, 9))\n",
    "week[is.na(week)] <- 0\n",
    "names(week)[2:7] <- paste0(\"wk\", 1:6)\n",
    "head(week)"
   ]
  },
  {
   "cell_type": "markdown",
   "metadata": {},
   "source": [
    "## 4.4 Create battle variables"
   ]
  },
  {
   "cell_type": "code",
   "execution_count": 12,
   "metadata": {},
   "outputs": [
    {
     "data": {
      "text/html": [
       "<table>\n",
       "<thead><tr><th scope=col>acc_id</th><th scope=col>sum_duel_cnt</th><th scope=col>sum_partybattle_cnt</th><th scope=col>is_duel</th><th scope=col>is_partybattle</th></tr></thead>\n",
       "<tbody>\n",
       "\t<tr><td>0000264b01392acfde44f9d8494f112a701dc5d3e5fda6ad090cb205727637e0</td><td>-0.07233609                                                     </td><td>-0.3349451                                                      </td><td>1                                                               </td><td>1                                                               </td></tr>\n",
       "\t<tr><td>0001f130e89288ff0df167b998f6eb7085687f411fcb72440d8a55fb2c0eabc8</td><td>-0.28934434                                                     </td><td>-1.3397803                                                      </td><td>0                                                               </td><td>0                                                               </td></tr>\n",
       "\t<tr><td>00028f0ad71c07f48aef465fd0c98ba6e3f0f3de3d2f7d14c975f794dfb31e2b</td><td>-0.18084022                                                     </td><td>-0.8373627                                                      </td><td>1                                                               </td><td>1                                                               </td></tr>\n",
       "\t<tr><td>00036e5b6a197c196fa10fc0ad4e2853b22294dff64d2735a2795ab3858d5b7a</td><td>-0.21700826                                                     </td><td>-1.0048352                                                      </td><td>0                                                               </td><td>0                                                               </td></tr>\n",
       "\t<tr><td>00037fe8e712041a476b8b1b827583cbc34895844057f03da985c953f567e0f2</td><td>-0.07233609                                                     </td><td>-0.3349451                                                      </td><td>1                                                               </td><td>1                                                               </td></tr>\n",
       "\t<tr><td>0003b127aa1c0c34490db8817574482464aad9f99cffde4d3e51790dff2cb6ca</td><td>-0.28934434                                                     </td><td>-1.3397803                                                      </td><td>0                                                               </td><td>0                                                               </td></tr>\n",
       "</tbody>\n",
       "</table>\n"
      ],
      "text/latex": [
       "\\begin{tabular}{r|lllll}\n",
       " acc\\_id & sum\\_duel\\_cnt & sum\\_partybattle\\_cnt & is\\_duel & is\\_partybattle\\\\\n",
       "\\hline\n",
       "\t 0000264b01392acfde44f9d8494f112a701dc5d3e5fda6ad090cb205727637e0 & -0.07233609                                                      & -0.3349451                                                       & 1                                                                & 1                                                               \\\\\n",
       "\t 0001f130e89288ff0df167b998f6eb7085687f411fcb72440d8a55fb2c0eabc8 & -0.28934434                                                      & -1.3397803                                                       & 0                                                                & 0                                                               \\\\\n",
       "\t 00028f0ad71c07f48aef465fd0c98ba6e3f0f3de3d2f7d14c975f794dfb31e2b & -0.18084022                                                      & -0.8373627                                                       & 1                                                                & 1                                                               \\\\\n",
       "\t 00036e5b6a197c196fa10fc0ad4e2853b22294dff64d2735a2795ab3858d5b7a & -0.21700826                                                      & -1.0048352                                                       & 0                                                                & 0                                                               \\\\\n",
       "\t 00037fe8e712041a476b8b1b827583cbc34895844057f03da985c953f567e0f2 & -0.07233609                                                      & -0.3349451                                                       & 1                                                                & 1                                                               \\\\\n",
       "\t 0003b127aa1c0c34490db8817574482464aad9f99cffde4d3e51790dff2cb6ca & -0.28934434                                                      & -1.3397803                                                       & 0                                                                & 0                                                               \\\\\n",
       "\\end{tabular}\n"
      ],
      "text/markdown": [
       "\n",
       "acc_id | sum_duel_cnt | sum_partybattle_cnt | is_duel | is_partybattle | \n",
       "|---|---|---|---|---|---|\n",
       "| 0000264b01392acfde44f9d8494f112a701dc5d3e5fda6ad090cb205727637e0 | -0.07233609                                                      | -0.3349451                                                       | 1                                                                | 1                                                                | \n",
       "| 0001f130e89288ff0df167b998f6eb7085687f411fcb72440d8a55fb2c0eabc8 | -0.28934434                                                      | -1.3397803                                                       | 0                                                                | 0                                                                | \n",
       "| 00028f0ad71c07f48aef465fd0c98ba6e3f0f3de3d2f7d14c975f794dfb31e2b | -0.18084022                                                      | -0.8373627                                                       | 1                                                                | 1                                                                | \n",
       "| 00036e5b6a197c196fa10fc0ad4e2853b22294dff64d2735a2795ab3858d5b7a | -0.21700826                                                      | -1.0048352                                                       | 0                                                                | 0                                                                | \n",
       "| 00037fe8e712041a476b8b1b827583cbc34895844057f03da985c953f567e0f2 | -0.07233609                                                      | -0.3349451                                                       | 1                                                                | 1                                                                | \n",
       "| 0003b127aa1c0c34490db8817574482464aad9f99cffde4d3e51790dff2cb6ca | -0.28934434                                                      | -1.3397803                                                       | 0                                                                | 0                                                                | \n",
       "\n",
       "\n"
      ],
      "text/plain": [
       "  acc_id                                                           sum_duel_cnt\n",
       "1 0000264b01392acfde44f9d8494f112a701dc5d3e5fda6ad090cb205727637e0 -0.07233609 \n",
       "2 0001f130e89288ff0df167b998f6eb7085687f411fcb72440d8a55fb2c0eabc8 -0.28934434 \n",
       "3 00028f0ad71c07f48aef465fd0c98ba6e3f0f3de3d2f7d14c975f794dfb31e2b -0.18084022 \n",
       "4 00036e5b6a197c196fa10fc0ad4e2853b22294dff64d2735a2795ab3858d5b7a -0.21700826 \n",
       "5 00037fe8e712041a476b8b1b827583cbc34895844057f03da985c953f567e0f2 -0.07233609 \n",
       "6 0003b127aa1c0c34490db8817574482464aad9f99cffde4d3e51790dff2cb6ca -0.28934434 \n",
       "  sum_partybattle_cnt is_duel is_partybattle\n",
       "1 -0.3349451          1       1             \n",
       "2 -1.3397803          0       0             \n",
       "3 -0.8373627          1       1             \n",
       "4 -1.0048352          0       0             \n",
       "5 -0.3349451          1       1             \n",
       "6 -1.3397803          0       0             "
      ]
     },
     "metadata": {},
     "output_type": "display_data"
    }
   ],
   "source": [
    "battle <- activity %>% group_by(acc_id) %>% \n",
    "  summarize(sum_duel_cnt = sum(duel_cnt),\n",
    "            sum_partybattle_cnt = sum(partybattle_cnt)) %>%\n",
    "  mutate(is_duel = ifelse(sum_duel_cnt > quantile(sum_duel_cnt, 0.3), 1, 0) %>% factor(),\n",
    "         is_partybattle = ifelse(sum_partybattle_cnt > quantile(sum_partybattle_cnt, 0.3), 1, 0) %>% factor())\n",
    "head(battle)"
   ]
  },
  {
   "cell_type": "markdown",
   "metadata": {},
   "source": [
    "## 4.5 Create exp variables"
   ]
  },
  {
   "cell_type": "code",
   "execution_count": 13,
   "metadata": {},
   "outputs": [
    {
     "data": {
      "text/html": [
       "<table>\n",
       "<thead><tr><th scope=col>acc_id</th><th scope=col>mean_npc_exp</th><th scope=col>sum_npc_exp</th><th scope=col>mean_npc_hongmun</th><th scope=col>sum_npc_hongmun</th><th scope=col>mean_quest_exp</th><th scope=col>sum_quest_exp</th><th scope=col>mean_quest_hongmun</th><th scope=col>sum_quest_hongmun</th><th scope=col>mean_item_hongmun</th><th scope=col>sum_item_hongmun</th></tr></thead>\n",
       "<tbody>\n",
       "\t<tr><td>0000264b01392acfde44f9d8494f112a701dc5d3e5fda6ad090cb205727637e0</td><td> 6.0419654                                                      </td><td>12.0839307                                                      </td><td>-0.2382876                                                      </td><td>-0.4765752                                                      </td><td> 6.82582813                                                     </td><td>13.6516563                                                      </td><td> 4.9269363                                                      </td><td> 9.8538726                                                      </td><td>-0.3063536                                                      </td><td>-0.6127072                                                      </td></tr>\n",
       "\t<tr><td>0001f130e89288ff0df167b998f6eb7085687f411fcb72440d8a55fb2c0eabc8</td><td>-0.2318740                                                      </td><td>-1.8549924                                                      </td><td>-0.2908032                                                      </td><td>-2.3264256                                                      </td><td>-0.25042336                                                     </td><td>-2.0033868                                                      </td><td>-0.4876662                                                      </td><td>-3.9013300                                                      </td><td>-0.3063536                                                      </td><td>-2.4508288                                                      </td></tr>\n",
       "\t<tr><td>00028f0ad71c07f48aef465fd0c98ba6e3f0f3de3d2f7d14c975f794dfb31e2b</td><td>-0.2317033                                                      </td><td>-1.1585167                                                      </td><td>-0.2908032                                                      </td><td>-1.4540160                                                      </td><td>-0.24953424                                                     </td><td>-1.2476712                                                      </td><td>-0.4876662                                                      </td><td>-2.4383312                                                      </td><td>-0.3063536                                                      </td><td>-1.5317680                                                      </td></tr>\n",
       "\t<tr><td>00036e5b6a197c196fa10fc0ad4e2853b22294dff64d2735a2795ab3858d5b7a</td><td>-0.1822994                                                      </td><td>-1.0937964                                                      </td><td>-0.2858753                                                      </td><td>-1.7152516                                                      </td><td>-0.02764767                                                     </td><td>-0.1658860                                                      </td><td>-0.1518956                                                      </td><td>-0.9113734                                                      </td><td>-0.3035836                                                      </td><td>-1.8215017                                                      </td></tr>\n",
       "\t<tr><td>00037fe8e712041a476b8b1b827583cbc34895844057f03da985c953f567e0f2</td><td>-0.2314473                                                      </td><td>-0.4628946                                                      </td><td>-0.2908032                                                      </td><td>-0.5816064                                                      </td><td>-0.24820057                                                     </td><td>-0.4964011                                                      </td><td>-0.4876662                                                      </td><td>-0.9753325                                                      </td><td>-0.3063536                                                      </td><td>-0.6127072                                                      </td></tr>\n",
       "\t<tr><td>0003b127aa1c0c34490db8817574482464aad9f99cffde4d3e51790dff2cb6ca</td><td>-0.2318740                                                      </td><td>-1.8549924                                                      </td><td>-0.2579845                                                      </td><td>-2.0638759                                                      </td><td>-0.25042336                                                     </td><td>-2.0033868                                                      </td><td>-0.4546304                                                      </td><td>-3.6370430                                                      </td><td>-0.2850594                                                      </td><td>-2.2804749                                                      </td></tr>\n",
       "</tbody>\n",
       "</table>\n"
      ],
      "text/latex": [
       "\\begin{tabular}{r|lllllllllll}\n",
       " acc\\_id & mean\\_npc\\_exp & sum\\_npc\\_exp & mean\\_npc\\_hongmun & sum\\_npc\\_hongmun & mean\\_quest\\_exp & sum\\_quest\\_exp & mean\\_quest\\_hongmun & sum\\_quest\\_hongmun & mean\\_item\\_hongmun & sum\\_item\\_hongmun\\\\\n",
       "\\hline\n",
       "\t 0000264b01392acfde44f9d8494f112a701dc5d3e5fda6ad090cb205727637e0 &  6.0419654                                                       & 12.0839307                                                       & -0.2382876                                                       & -0.4765752                                                       &  6.82582813                                                      & 13.6516563                                                       &  4.9269363                                                       &  9.8538726                                                       & -0.3063536                                                       & -0.6127072                                                      \\\\\n",
       "\t 0001f130e89288ff0df167b998f6eb7085687f411fcb72440d8a55fb2c0eabc8 & -0.2318740                                                       & -1.8549924                                                       & -0.2908032                                                       & -2.3264256                                                       & -0.25042336                                                      & -2.0033868                                                       & -0.4876662                                                       & -3.9013300                                                       & -0.3063536                                                       & -2.4508288                                                      \\\\\n",
       "\t 00028f0ad71c07f48aef465fd0c98ba6e3f0f3de3d2f7d14c975f794dfb31e2b & -0.2317033                                                       & -1.1585167                                                       & -0.2908032                                                       & -1.4540160                                                       & -0.24953424                                                      & -1.2476712                                                       & -0.4876662                                                       & -2.4383312                                                       & -0.3063536                                                       & -1.5317680                                                      \\\\\n",
       "\t 00036e5b6a197c196fa10fc0ad4e2853b22294dff64d2735a2795ab3858d5b7a & -0.1822994                                                       & -1.0937964                                                       & -0.2858753                                                       & -1.7152516                                                       & -0.02764767                                                      & -0.1658860                                                       & -0.1518956                                                       & -0.9113734                                                       & -0.3035836                                                       & -1.8215017                                                      \\\\\n",
       "\t 00037fe8e712041a476b8b1b827583cbc34895844057f03da985c953f567e0f2 & -0.2314473                                                       & -0.4628946                                                       & -0.2908032                                                       & -0.5816064                                                       & -0.24820057                                                      & -0.4964011                                                       & -0.4876662                                                       & -0.9753325                                                       & -0.3063536                                                       & -0.6127072                                                      \\\\\n",
       "\t 0003b127aa1c0c34490db8817574482464aad9f99cffde4d3e51790dff2cb6ca & -0.2318740                                                       & -1.8549924                                                       & -0.2579845                                                       & -2.0638759                                                       & -0.25042336                                                      & -2.0033868                                                       & -0.4546304                                                       & -3.6370430                                                       & -0.2850594                                                       & -2.2804749                                                      \\\\\n",
       "\\end{tabular}\n"
      ],
      "text/markdown": [
       "\n",
       "acc_id | mean_npc_exp | sum_npc_exp | mean_npc_hongmun | sum_npc_hongmun | mean_quest_exp | sum_quest_exp | mean_quest_hongmun | sum_quest_hongmun | mean_item_hongmun | sum_item_hongmun | \n",
       "|---|---|---|---|---|---|\n",
       "| 0000264b01392acfde44f9d8494f112a701dc5d3e5fda6ad090cb205727637e0 |  6.0419654                                                       | 12.0839307                                                       | -0.2382876                                                       | -0.4765752                                                       |  6.82582813                                                      | 13.6516563                                                       |  4.9269363                                                       |  9.8538726                                                       | -0.3063536                                                       | -0.6127072                                                       | \n",
       "| 0001f130e89288ff0df167b998f6eb7085687f411fcb72440d8a55fb2c0eabc8 | -0.2318740                                                       | -1.8549924                                                       | -0.2908032                                                       | -2.3264256                                                       | -0.25042336                                                      | -2.0033868                                                       | -0.4876662                                                       | -3.9013300                                                       | -0.3063536                                                       | -2.4508288                                                       | \n",
       "| 00028f0ad71c07f48aef465fd0c98ba6e3f0f3de3d2f7d14c975f794dfb31e2b | -0.2317033                                                       | -1.1585167                                                       | -0.2908032                                                       | -1.4540160                                                       | -0.24953424                                                      | -1.2476712                                                       | -0.4876662                                                       | -2.4383312                                                       | -0.3063536                                                       | -1.5317680                                                       | \n",
       "| 00036e5b6a197c196fa10fc0ad4e2853b22294dff64d2735a2795ab3858d5b7a | -0.1822994                                                       | -1.0937964                                                       | -0.2858753                                                       | -1.7152516                                                       | -0.02764767                                                      | -0.1658860                                                       | -0.1518956                                                       | -0.9113734                                                       | -0.3035836                                                       | -1.8215017                                                       | \n",
       "| 00037fe8e712041a476b8b1b827583cbc34895844057f03da985c953f567e0f2 | -0.2314473                                                       | -0.4628946                                                       | -0.2908032                                                       | -0.5816064                                                       | -0.24820057                                                      | -0.4964011                                                       | -0.4876662                                                       | -0.9753325                                                       | -0.3063536                                                       | -0.6127072                                                       | \n",
       "| 0003b127aa1c0c34490db8817574482464aad9f99cffde4d3e51790dff2cb6ca | -0.2318740                                                       | -1.8549924                                                       | -0.2579845                                                       | -2.0638759                                                       | -0.25042336                                                      | -2.0033868                                                       | -0.4546304                                                       | -3.6370430                                                       | -0.2850594                                                       | -2.2804749                                                       | \n",
       "\n",
       "\n"
      ],
      "text/plain": [
       "  acc_id                                                           mean_npc_exp\n",
       "1 0000264b01392acfde44f9d8494f112a701dc5d3e5fda6ad090cb205727637e0  6.0419654  \n",
       "2 0001f130e89288ff0df167b998f6eb7085687f411fcb72440d8a55fb2c0eabc8 -0.2318740  \n",
       "3 00028f0ad71c07f48aef465fd0c98ba6e3f0f3de3d2f7d14c975f794dfb31e2b -0.2317033  \n",
       "4 00036e5b6a197c196fa10fc0ad4e2853b22294dff64d2735a2795ab3858d5b7a -0.1822994  \n",
       "5 00037fe8e712041a476b8b1b827583cbc34895844057f03da985c953f567e0f2 -0.2314473  \n",
       "6 0003b127aa1c0c34490db8817574482464aad9f99cffde4d3e51790dff2cb6ca -0.2318740  \n",
       "  sum_npc_exp mean_npc_hongmun sum_npc_hongmun mean_quest_exp sum_quest_exp\n",
       "1 12.0839307  -0.2382876       -0.4765752       6.82582813    13.6516563   \n",
       "2 -1.8549924  -0.2908032       -2.3264256      -0.25042336    -2.0033868   \n",
       "3 -1.1585167  -0.2908032       -1.4540160      -0.24953424    -1.2476712   \n",
       "4 -1.0937964  -0.2858753       -1.7152516      -0.02764767    -0.1658860   \n",
       "5 -0.4628946  -0.2908032       -0.5816064      -0.24820057    -0.4964011   \n",
       "6 -1.8549924  -0.2579845       -2.0638759      -0.25042336    -2.0033868   \n",
       "  mean_quest_hongmun sum_quest_hongmun mean_item_hongmun sum_item_hongmun\n",
       "1  4.9269363          9.8538726        -0.3063536        -0.6127072      \n",
       "2 -0.4876662         -3.9013300        -0.3063536        -2.4508288      \n",
       "3 -0.4876662         -2.4383312        -0.3063536        -1.5317680      \n",
       "4 -0.1518956         -0.9113734        -0.3035836        -1.8215017      \n",
       "5 -0.4876662         -0.9753325        -0.3063536        -0.6127072      \n",
       "6 -0.4546304         -3.6370430        -0.2850594        -2.2804749      "
      ]
     },
     "metadata": {},
     "output_type": "display_data"
    }
   ],
   "source": [
    "exp <- activity %>% group_by(acc_id) %>%\n",
    "  summarize(mean_npc_exp = mean(npc_exp),\n",
    "            sum_npc_exp = sum(npc_exp),\n",
    "            mean_npc_hongmun = mean(npc_hongmun),\n",
    "            sum_npc_hongmun = sum(npc_hongmun),\n",
    "            mean_quest_exp = mean(quest_exp),\n",
    "            sum_quest_exp = sum(quest_exp),\n",
    "            mean_quest_hongmun = mean(quest_hongmun),\n",
    "            sum_quest_hongmun = sum(quest_hongmun),\n",
    "            mean_item_hongmun = mean(item_hongmun),\n",
    "            sum_item_hongmun = sum(item_hongmun))\n",
    "head(exp)"
   ]
  },
  {
   "cell_type": "markdown",
   "metadata": {},
   "source": [
    "# 5. Merge data"
   ]
  },
  {
   "cell_type": "markdown",
   "metadata": {},
   "source": [
    "## 5.1 Payment / Guild"
   ]
  },
  {
   "cell_type": "code",
   "execution_count": 14,
   "metadata": {},
   "outputs": [
    {
     "data": {
      "text/html": [
       "<table>\n",
       "<thead><tr><th scope=col>label</th><th scope=col>payment_mean</th><th scope=col>join_num</th><th scope=col>is_join</th></tr></thead>\n",
       "<tbody>\n",
       "\t<tr><td>week      </td><td>-0.1498985</td><td>0         </td><td>0         </td></tr>\n",
       "\t<tr><td>week      </td><td>-0.1498985</td><td>0         </td><td>0         </td></tr>\n",
       "\t<tr><td>week      </td><td>-0.1498985</td><td>0         </td><td>0         </td></tr>\n",
       "\t<tr><td>week      </td><td> 5.3432672</td><td>0         </td><td>0         </td></tr>\n",
       "\t<tr><td>week      </td><td>-0.1498985</td><td>0         </td><td>0         </td></tr>\n",
       "\t<tr><td>week      </td><td>-0.1498985</td><td>0         </td><td>0         </td></tr>\n",
       "</tbody>\n",
       "</table>\n"
      ],
      "text/latex": [
       "\\begin{tabular}{r|llll}\n",
       " label & payment\\_mean & join\\_num & is\\_join\\\\\n",
       "\\hline\n",
       "\t week       & -0.1498985 & 0          & 0         \\\\\n",
       "\t week       & -0.1498985 & 0          & 0         \\\\\n",
       "\t week       & -0.1498985 & 0          & 0         \\\\\n",
       "\t week       &  5.3432672 & 0          & 0         \\\\\n",
       "\t week       & -0.1498985 & 0          & 0         \\\\\n",
       "\t week       & -0.1498985 & 0          & 0         \\\\\n",
       "\\end{tabular}\n"
      ],
      "text/markdown": [
       "\n",
       "label | payment_mean | join_num | is_join | \n",
       "|---|---|---|---|---|---|\n",
       "| week       | -0.1498985 | 0          | 0          | \n",
       "| week       | -0.1498985 | 0          | 0          | \n",
       "| week       | -0.1498985 | 0          | 0          | \n",
       "| week       |  5.3432672 | 0          | 0          | \n",
       "| week       | -0.1498985 | 0          | 0          | \n",
       "| week       | -0.1498985 | 0          | 0          | \n",
       "\n",
       "\n"
      ],
      "text/plain": [
       "  label payment_mean join_num is_join\n",
       "1 week  -0.1498985   0        0      \n",
       "2 week  -0.1498985   0        0      \n",
       "3 week  -0.1498985   0        0      \n",
       "4 week   5.3432672   0        0      \n",
       "5 week  -0.1498985   0        0      \n",
       "6 week  -0.1498985   0        0      "
      ]
     },
     "metadata": {},
     "output_type": "display_data"
    }
   ],
   "source": [
    "base.df <- label  %>% \n",
    "  left_join(pay, by = \"acc_id\") %>%\n",
    "  left_join(guild_join, by = \"acc_id\") %>% \n",
    "  mutate(join_num = ifelse(is.na(join_num), 0, join_num),\n",
    "         is_join = ifelse(join_num > 0, \"1\", \"0\") %>% factor()) %>%\n",
    "  select(-acc_id)\n",
    "head(base.df)"
   ]
  },
  {
   "cell_type": "markdown",
   "metadata": {},
   "source": [
    "## 5.2 Payment / Guild / Time"
   ]
  },
  {
   "cell_type": "code",
   "execution_count": 15,
   "metadata": {},
   "outputs": [
    {
     "data": {
      "text/html": [
       "<table>\n",
       "<thead><tr><th scope=col>label</th><th scope=col>payment_mean</th><th scope=col>join_num</th><th scope=col>is_join</th><th scope=col>wk1</th><th scope=col>wk2</th><th scope=col>wk3</th><th scope=col>wk4</th><th scope=col>wk5</th><th scope=col>wk6</th><th scope=col>wk_num</th><th scope=col>access_mean</th><th scope=col>time_mean</th></tr></thead>\n",
       "<tbody>\n",
       "\t<tr><td>week      </td><td>-0.1498985</td><td>0         </td><td>0         </td><td>0         </td><td>0         </td><td>0         </td><td>0         </td><td>0         </td><td>0         </td><td>1         </td><td>3.000000  </td><td> 1.5198148</td></tr>\n",
       "\t<tr><td>week      </td><td>-0.1498985</td><td>0         </td><td>0         </td><td>0         </td><td>0         </td><td>0         </td><td>0         </td><td>1         </td><td>1         </td><td>4         </td><td>5.750000  </td><td> 1.7675336</td></tr>\n",
       "\t<tr><td>week      </td><td>-0.1498985</td><td>0         </td><td>0         </td><td>0         </td><td>0         </td><td>0         </td><td>0         </td><td>0         </td><td>0         </td><td>1         </td><td>3.000000  </td><td> 1.1100352</td></tr>\n",
       "\t<tr><td>week      </td><td> 5.3432672</td><td>0         </td><td>0         </td><td>0         </td><td>0         </td><td>0         </td><td>0         </td><td>0         </td><td>0         </td><td>1         </td><td>1.000000  </td><td>-0.6592145</td></tr>\n",
       "\t<tr><td>week      </td><td>-0.1498985</td><td>0         </td><td>0         </td><td>0         </td><td>0         </td><td>0         </td><td>0         </td><td>0         </td><td>1         </td><td>3         </td><td>2.333333  </td><td>-0.1372716</td></tr>\n",
       "\t<tr><td>week      </td><td>-0.1498985</td><td>0         </td><td>0         </td><td>0         </td><td>0         </td><td>0         </td><td>0         </td><td>0         </td><td>0         </td><td>1         </td><td>4.000000  </td><td> 1.7031579</td></tr>\n",
       "</tbody>\n",
       "</table>\n"
      ],
      "text/latex": [
       "\\begin{tabular}{r|lllllllllllll}\n",
       " label & payment\\_mean & join\\_num & is\\_join & wk1 & wk2 & wk3 & wk4 & wk5 & wk6 & wk\\_num & access\\_mean & time\\_mean\\\\\n",
       "\\hline\n",
       "\t week       & -0.1498985 & 0          & 0          & 0          & 0          & 0          & 0          & 0          & 0          & 1          & 3.000000   &  1.5198148\\\\\n",
       "\t week       & -0.1498985 & 0          & 0          & 0          & 0          & 0          & 0          & 1          & 1          & 4          & 5.750000   &  1.7675336\\\\\n",
       "\t week       & -0.1498985 & 0          & 0          & 0          & 0          & 0          & 0          & 0          & 0          & 1          & 3.000000   &  1.1100352\\\\\n",
       "\t week       &  5.3432672 & 0          & 0          & 0          & 0          & 0          & 0          & 0          & 0          & 1          & 1.000000   & -0.6592145\\\\\n",
       "\t week       & -0.1498985 & 0          & 0          & 0          & 0          & 0          & 0          & 0          & 1          & 3          & 2.333333   & -0.1372716\\\\\n",
       "\t week       & -0.1498985 & 0          & 0          & 0          & 0          & 0          & 0          & 0          & 0          & 1          & 4.000000   &  1.7031579\\\\\n",
       "\\end{tabular}\n"
      ],
      "text/markdown": [
       "\n",
       "label | payment_mean | join_num | is_join | wk1 | wk2 | wk3 | wk4 | wk5 | wk6 | wk_num | access_mean | time_mean | \n",
       "|---|---|---|---|---|---|\n",
       "| week       | -0.1498985 | 0          | 0          | 0          | 0          | 0          | 0          | 0          | 0          | 1          | 3.000000   |  1.5198148 | \n",
       "| week       | -0.1498985 | 0          | 0          | 0          | 0          | 0          | 0          | 1          | 1          | 4          | 5.750000   |  1.7675336 | \n",
       "| week       | -0.1498985 | 0          | 0          | 0          | 0          | 0          | 0          | 0          | 0          | 1          | 3.000000   |  1.1100352 | \n",
       "| week       |  5.3432672 | 0          | 0          | 0          | 0          | 0          | 0          | 0          | 0          | 1          | 1.000000   | -0.6592145 | \n",
       "| week       | -0.1498985 | 0          | 0          | 0          | 0          | 0          | 0          | 0          | 1          | 3          | 2.333333   | -0.1372716 | \n",
       "| week       | -0.1498985 | 0          | 0          | 0          | 0          | 0          | 0          | 0          | 0          | 1          | 4.000000   |  1.7031579 | \n",
       "\n",
       "\n"
      ],
      "text/plain": [
       "  label payment_mean join_num is_join wk1 wk2 wk3 wk4 wk5 wk6 wk_num\n",
       "1 week  -0.1498985   0        0       0   0   0   0   0   0   1     \n",
       "2 week  -0.1498985   0        0       0   0   0   0   1   1   4     \n",
       "3 week  -0.1498985   0        0       0   0   0   0   0   0   1     \n",
       "4 week   5.3432672   0        0       0   0   0   0   0   0   1     \n",
       "5 week  -0.1498985   0        0       0   0   0   0   0   1   3     \n",
       "6 week  -0.1498985   0        0       0   0   0   0   0   0   1     \n",
       "  access_mean time_mean \n",
       "1 3.000000     1.5198148\n",
       "2 5.750000     1.7675336\n",
       "3 3.000000     1.1100352\n",
       "4 1.000000    -0.6592145\n",
       "5 2.333333    -0.1372716\n",
       "6 4.000000     1.7031579"
      ]
     },
     "metadata": {},
     "output_type": "display_data"
    }
   ],
   "source": [
    "first.df <- label  %>% \n",
    "  left_join(pay, by = \"acc_id\") %>%\n",
    "  left_join(guild_join, by = \"acc_id\") %>% \n",
    "  mutate(join_num = ifelse(is.na(join_num), 0, join_num),\n",
    "         is_join = ifelse(join_num > 0, \"1\", \"0\") %>% factor()) %>%\n",
    "  left_join(week, by = \"acc_id\") %>%\n",
    "  left_join(time, by = \"acc_id\") %>%\n",
    "  mutate(wk1 = factor(wk1),\n",
    "         wk2 = factor(wk2),\n",
    "         wk3 = factor(wk3),\n",
    "         wk4 = factor(wk4),\n",
    "         wk5 = factor(wk5),\n",
    "         wk6 = factor(wk6)) %>%\n",
    "  select(-acc_id)\n",
    "head(first.df)"
   ]
  },
  {
   "cell_type": "markdown",
   "metadata": {},
   "source": [
    "## 5.3 Payment / Guild / Time / Battle"
   ]
  },
  {
   "cell_type": "code",
   "execution_count": 16,
   "metadata": {},
   "outputs": [
    {
     "data": {
      "text/html": [
       "<table>\n",
       "<thead><tr><th scope=col>label</th><th scope=col>payment_mean</th><th scope=col>join_num</th><th scope=col>is_join</th><th scope=col>wk1</th><th scope=col>wk2</th><th scope=col>wk3</th><th scope=col>wk4</th><th scope=col>wk5</th><th scope=col>wk6</th><th scope=col>wk_num</th><th scope=col>access_mean</th><th scope=col>time_mean</th><th scope=col>sum_duel_cnt</th><th scope=col>sum_partybattle_cnt</th><th scope=col>is_duel</th><th scope=col>is_partybattle</th></tr></thead>\n",
       "<tbody>\n",
       "\t<tr><td>week       </td><td>-0.1498985 </td><td>0          </td><td>0          </td><td>0          </td><td>0          </td><td>0          </td><td>0          </td><td>0          </td><td>0          </td><td>1          </td><td>3.000000   </td><td> 1.5198148 </td><td>-0.03616804</td><td>-0.1674725 </td><td>1          </td><td>1          </td></tr>\n",
       "\t<tr><td>week       </td><td>-0.1498985 </td><td>0          </td><td>0          </td><td>0          </td><td>0          </td><td>0          </td><td>0          </td><td>1          </td><td>1          </td><td>4          </td><td>5.750000   </td><td> 1.7675336 </td><td>-0.14467217</td><td>-0.6698902 </td><td>1          </td><td>1          </td></tr>\n",
       "\t<tr><td>week       </td><td>-0.1498985 </td><td>0          </td><td>0          </td><td>0          </td><td>0          </td><td>0          </td><td>0          </td><td>0          </td><td>0          </td><td>1          </td><td>3.000000   </td><td> 1.1100352 </td><td>-0.03616804</td><td>-0.1674725 </td><td>1          </td><td>1          </td></tr>\n",
       "\t<tr><td>week       </td><td> 5.3432672 </td><td>0          </td><td>0          </td><td>0          </td><td>0          </td><td>0          </td><td>0          </td><td>0          </td><td>0          </td><td>1          </td><td>1.000000   </td><td>-0.6592145 </td><td>-0.03616804</td><td>-0.1674725 </td><td>1          </td><td>1          </td></tr>\n",
       "\t<tr><td>week       </td><td>-0.1498985 </td><td>0          </td><td>0          </td><td>0          </td><td>0          </td><td>0          </td><td>0          </td><td>0          </td><td>1          </td><td>3          </td><td>2.333333   </td><td>-0.1372716 </td><td>-0.10850413</td><td>-0.5024176 </td><td>1          </td><td>1          </td></tr>\n",
       "\t<tr><td>week       </td><td>-0.1498985 </td><td>0          </td><td>0          </td><td>0          </td><td>0          </td><td>0          </td><td>0          </td><td>0          </td><td>0          </td><td>1          </td><td>4.000000   </td><td> 1.7031579 </td><td>-0.03616804</td><td>-0.1674725 </td><td>1          </td><td>1          </td></tr>\n",
       "</tbody>\n",
       "</table>\n"
      ],
      "text/latex": [
       "\\begin{tabular}{r|lllllllllllllllll}\n",
       " label & payment\\_mean & join\\_num & is\\_join & wk1 & wk2 & wk3 & wk4 & wk5 & wk6 & wk\\_num & access\\_mean & time\\_mean & sum\\_duel\\_cnt & sum\\_partybattle\\_cnt & is\\_duel & is\\_partybattle\\\\\n",
       "\\hline\n",
       "\t week        & -0.1498985  & 0           & 0           & 0           & 0           & 0           & 0           & 0           & 0           & 1           & 3.000000    &  1.5198148  & -0.03616804 & -0.1674725  & 1           & 1          \\\\\n",
       "\t week        & -0.1498985  & 0           & 0           & 0           & 0           & 0           & 0           & 1           & 1           & 4           & 5.750000    &  1.7675336  & -0.14467217 & -0.6698902  & 1           & 1          \\\\\n",
       "\t week        & -0.1498985  & 0           & 0           & 0           & 0           & 0           & 0           & 0           & 0           & 1           & 3.000000    &  1.1100352  & -0.03616804 & -0.1674725  & 1           & 1          \\\\\n",
       "\t week        &  5.3432672  & 0           & 0           & 0           & 0           & 0           & 0           & 0           & 0           & 1           & 1.000000    & -0.6592145  & -0.03616804 & -0.1674725  & 1           & 1          \\\\\n",
       "\t week        & -0.1498985  & 0           & 0           & 0           & 0           & 0           & 0           & 0           & 1           & 3           & 2.333333    & -0.1372716  & -0.10850413 & -0.5024176  & 1           & 1          \\\\\n",
       "\t week        & -0.1498985  & 0           & 0           & 0           & 0           & 0           & 0           & 0           & 0           & 1           & 4.000000    &  1.7031579  & -0.03616804 & -0.1674725  & 1           & 1          \\\\\n",
       "\\end{tabular}\n"
      ],
      "text/markdown": [
       "\n",
       "label | payment_mean | join_num | is_join | wk1 | wk2 | wk3 | wk4 | wk5 | wk6 | wk_num | access_mean | time_mean | sum_duel_cnt | sum_partybattle_cnt | is_duel | is_partybattle | \n",
       "|---|---|---|---|---|---|\n",
       "| week        | -0.1498985  | 0           | 0           | 0           | 0           | 0           | 0           | 0           | 0           | 1           | 3.000000    |  1.5198148  | -0.03616804 | -0.1674725  | 1           | 1           | \n",
       "| week        | -0.1498985  | 0           | 0           | 0           | 0           | 0           | 0           | 1           | 1           | 4           | 5.750000    |  1.7675336  | -0.14467217 | -0.6698902  | 1           | 1           | \n",
       "| week        | -0.1498985  | 0           | 0           | 0           | 0           | 0           | 0           | 0           | 0           | 1           | 3.000000    |  1.1100352  | -0.03616804 | -0.1674725  | 1           | 1           | \n",
       "| week        |  5.3432672  | 0           | 0           | 0           | 0           | 0           | 0           | 0           | 0           | 1           | 1.000000    | -0.6592145  | -0.03616804 | -0.1674725  | 1           | 1           | \n",
       "| week        | -0.1498985  | 0           | 0           | 0           | 0           | 0           | 0           | 0           | 1           | 3           | 2.333333    | -0.1372716  | -0.10850413 | -0.5024176  | 1           | 1           | \n",
       "| week        | -0.1498985  | 0           | 0           | 0           | 0           | 0           | 0           | 0           | 0           | 1           | 4.000000    |  1.7031579  | -0.03616804 | -0.1674725  | 1           | 1           | \n",
       "\n",
       "\n"
      ],
      "text/plain": [
       "  label payment_mean join_num is_join wk1 wk2 wk3 wk4 wk5 wk6 wk_num\n",
       "1 week  -0.1498985   0        0       0   0   0   0   0   0   1     \n",
       "2 week  -0.1498985   0        0       0   0   0   0   1   1   4     \n",
       "3 week  -0.1498985   0        0       0   0   0   0   0   0   1     \n",
       "4 week   5.3432672   0        0       0   0   0   0   0   0   1     \n",
       "5 week  -0.1498985   0        0       0   0   0   0   0   1   3     \n",
       "6 week  -0.1498985   0        0       0   0   0   0   0   0   1     \n",
       "  access_mean time_mean  sum_duel_cnt sum_partybattle_cnt is_duel\n",
       "1 3.000000     1.5198148 -0.03616804  -0.1674725          1      \n",
       "2 5.750000     1.7675336 -0.14467217  -0.6698902          1      \n",
       "3 3.000000     1.1100352 -0.03616804  -0.1674725          1      \n",
       "4 1.000000    -0.6592145 -0.03616804  -0.1674725          1      \n",
       "5 2.333333    -0.1372716 -0.10850413  -0.5024176          1      \n",
       "6 4.000000     1.7031579 -0.03616804  -0.1674725          1      \n",
       "  is_partybattle\n",
       "1 1             \n",
       "2 1             \n",
       "3 1             \n",
       "4 1             \n",
       "5 1             \n",
       "6 1             "
      ]
     },
     "metadata": {},
     "output_type": "display_data"
    }
   ],
   "source": [
    "second.df <- label  %>% \n",
    "  left_join(pay, by = \"acc_id\") %>%\n",
    "  left_join(guild_join, by = \"acc_id\") %>% \n",
    "  mutate(join_num = ifelse(is.na(join_num), 0, join_num),\n",
    "         is_join = ifelse(join_num > 0, \"1\", \"0\") %>% factor()) %>%\n",
    "  left_join(week, by = \"acc_id\") %>%\n",
    "  left_join(time, by = \"acc_id\") %>%\n",
    "  left_join(battle, by = \"acc_id\") %>%\n",
    "  mutate(wk1 = factor(wk1),\n",
    "         wk2 = factor(wk2),\n",
    "         wk3 = factor(wk3),\n",
    "         wk4 = factor(wk4),\n",
    "         wk5 = factor(wk5),\n",
    "         wk6 = factor(wk6)) %>%\n",
    "  select(-acc_id)\n",
    "head(second.df)"
   ]
  },
  {
   "cell_type": "markdown",
   "metadata": {},
   "source": [
    "## 5.4 Payment / Guild / Time / Battle / Exp"
   ]
  },
  {
   "cell_type": "code",
   "execution_count": 17,
   "metadata": {},
   "outputs": [
    {
     "data": {
      "text/html": [
       "<table>\n",
       "<thead><tr><th scope=col>label</th><th scope=col>payment_mean</th><th scope=col>join_num</th><th scope=col>is_join</th><th scope=col>wk1</th><th scope=col>wk2</th><th scope=col>wk3</th><th scope=col>wk4</th><th scope=col>wk5</th><th scope=col>wk6</th><th scope=col>...</th><th scope=col>mean_npc_exp</th><th scope=col>sum_npc_exp</th><th scope=col>mean_npc_hongmun</th><th scope=col>sum_npc_hongmun</th><th scope=col>mean_quest_exp</th><th scope=col>sum_quest_exp</th><th scope=col>mean_quest_hongmun</th><th scope=col>sum_quest_hongmun</th><th scope=col>mean_item_hongmun</th><th scope=col>sum_item_hongmun</th></tr></thead>\n",
       "<tbody>\n",
       "\t<tr><td>week      </td><td>-0.1498985</td><td>0         </td><td>0         </td><td>0         </td><td>0         </td><td>0         </td><td>0         </td><td>0         </td><td>0         </td><td>...       </td><td> 2.9106849</td><td> 2.910685 </td><td>-0.2681098</td><td>-0.2681098</td><td> 2.8522409</td><td> 2.8522409</td><td> 2.3329102</td><td> 2.3329102</td><td>-0.3063536</td><td>-0.3063536</td></tr>\n",
       "\t<tr><td>week      </td><td>-0.1498985</td><td>0         </td><td>0         </td><td>0         </td><td>0         </td><td>0         </td><td>0         </td><td>1         </td><td>1         </td><td>...       </td><td> 2.7291466</td><td>10.916586 </td><td>-0.1546110</td><td>-0.6184440</td><td> 2.5097645</td><td>10.0390580</td><td> 1.8400401</td><td> 7.3601603</td><td>-0.2066343</td><td>-0.8265370</td></tr>\n",
       "\t<tr><td>week      </td><td>-0.1498985</td><td>0         </td><td>0         </td><td>0         </td><td>0         </td><td>0         </td><td>0         </td><td>0         </td><td>0         </td><td>...       </td><td> 2.9162327</td><td> 2.916233 </td><td>-0.2782909</td><td>-0.2782909</td><td> 2.4315540</td><td> 2.4315540</td><td> 1.2610653</td><td> 1.2610653</td><td>-0.3063536</td><td>-0.3063536</td></tr>\n",
       "\t<tr><td>week      </td><td> 5.3432672</td><td>0         </td><td>0         </td><td>0         </td><td>0         </td><td>0         </td><td>0         </td><td>0         </td><td>0         </td><td>...       </td><td>-0.2318740</td><td>-0.231874 </td><td>-0.2908032</td><td>-0.2908032</td><td>-0.2504234</td><td>-0.2504234</td><td>-0.4876662</td><td>-0.4876662</td><td>-0.3063536</td><td>-0.3063536</td></tr>\n",
       "\t<tr><td>week      </td><td>-0.1498985</td><td>0         </td><td>0         </td><td>0         </td><td>0         </td><td>0         </td><td>0         </td><td>0         </td><td>1         </td><td>...       </td><td> 0.3649319</td><td> 1.094796 </td><td>-0.1800857</td><td>-0.5402570</td><td> 0.4893202</td><td> 1.4679606</td><td> 0.2912995</td><td> 0.8738986</td><td>-0.2523390</td><td>-0.7570169</td></tr>\n",
       "\t<tr><td>week      </td><td>-0.1498985</td><td>0         </td><td>0         </td><td>0         </td><td>0         </td><td>0         </td><td>0         </td><td>0         </td><td>0         </td><td>...       </td><td> 1.5446439</td><td> 1.544644 </td><td> 0.4975927</td><td> 0.4975927</td><td> 1.9688073</td><td> 1.9688073</td><td> 1.8590120</td><td> 1.8590120</td><td>-0.1110699</td><td>-0.1110699</td></tr>\n",
       "</tbody>\n",
       "</table>\n"
      ],
      "text/latex": [
       "\\begin{tabular}{r|lllllllllllllllllllllllllll}\n",
       " label & payment\\_mean & join\\_num & is\\_join & wk1 & wk2 & wk3 & wk4 & wk5 & wk6 & ... & mean\\_npc\\_exp & sum\\_npc\\_exp & mean\\_npc\\_hongmun & sum\\_npc\\_hongmun & mean\\_quest\\_exp & sum\\_quest\\_exp & mean\\_quest\\_hongmun & sum\\_quest\\_hongmun & mean\\_item\\_hongmun & sum\\_item\\_hongmun\\\\\n",
       "\\hline\n",
       "\t week       & -0.1498985 & 0          & 0          & 0          & 0          & 0          & 0          & 0          & 0          & ...        &  2.9106849 &  2.910685  & -0.2681098 & -0.2681098 &  2.8522409 &  2.8522409 &  2.3329102 &  2.3329102 & -0.3063536 & -0.3063536\\\\\n",
       "\t week       & -0.1498985 & 0          & 0          & 0          & 0          & 0          & 0          & 1          & 1          & ...        &  2.7291466 & 10.916586  & -0.1546110 & -0.6184440 &  2.5097645 & 10.0390580 &  1.8400401 &  7.3601603 & -0.2066343 & -0.8265370\\\\\n",
       "\t week       & -0.1498985 & 0          & 0          & 0          & 0          & 0          & 0          & 0          & 0          & ...        &  2.9162327 &  2.916233  & -0.2782909 & -0.2782909 &  2.4315540 &  2.4315540 &  1.2610653 &  1.2610653 & -0.3063536 & -0.3063536\\\\\n",
       "\t week       &  5.3432672 & 0          & 0          & 0          & 0          & 0          & 0          & 0          & 0          & ...        & -0.2318740 & -0.231874  & -0.2908032 & -0.2908032 & -0.2504234 & -0.2504234 & -0.4876662 & -0.4876662 & -0.3063536 & -0.3063536\\\\\n",
       "\t week       & -0.1498985 & 0          & 0          & 0          & 0          & 0          & 0          & 0          & 1          & ...        &  0.3649319 &  1.094796  & -0.1800857 & -0.5402570 &  0.4893202 &  1.4679606 &  0.2912995 &  0.8738986 & -0.2523390 & -0.7570169\\\\\n",
       "\t week       & -0.1498985 & 0          & 0          & 0          & 0          & 0          & 0          & 0          & 0          & ...        &  1.5446439 &  1.544644  &  0.4975927 &  0.4975927 &  1.9688073 &  1.9688073 &  1.8590120 &  1.8590120 & -0.1110699 & -0.1110699\\\\\n",
       "\\end{tabular}\n"
      ],
      "text/markdown": [
       "\n",
       "label | payment_mean | join_num | is_join | wk1 | wk2 | wk3 | wk4 | wk5 | wk6 | ... | mean_npc_exp | sum_npc_exp | mean_npc_hongmun | sum_npc_hongmun | mean_quest_exp | sum_quest_exp | mean_quest_hongmun | sum_quest_hongmun | mean_item_hongmun | sum_item_hongmun | \n",
       "|---|---|---|---|---|---|\n",
       "| week       | -0.1498985 | 0          | 0          | 0          | 0          | 0          | 0          | 0          | 0          | ...        |  2.9106849 |  2.910685  | -0.2681098 | -0.2681098 |  2.8522409 |  2.8522409 |  2.3329102 |  2.3329102 | -0.3063536 | -0.3063536 | \n",
       "| week       | -0.1498985 | 0          | 0          | 0          | 0          | 0          | 0          | 1          | 1          | ...        |  2.7291466 | 10.916586  | -0.1546110 | -0.6184440 |  2.5097645 | 10.0390580 |  1.8400401 |  7.3601603 | -0.2066343 | -0.8265370 | \n",
       "| week       | -0.1498985 | 0          | 0          | 0          | 0          | 0          | 0          | 0          | 0          | ...        |  2.9162327 |  2.916233  | -0.2782909 | -0.2782909 |  2.4315540 |  2.4315540 |  1.2610653 |  1.2610653 | -0.3063536 | -0.3063536 | \n",
       "| week       |  5.3432672 | 0          | 0          | 0          | 0          | 0          | 0          | 0          | 0          | ...        | -0.2318740 | -0.231874  | -0.2908032 | -0.2908032 | -0.2504234 | -0.2504234 | -0.4876662 | -0.4876662 | -0.3063536 | -0.3063536 | \n",
       "| week       | -0.1498985 | 0          | 0          | 0          | 0          | 0          | 0          | 0          | 1          | ...        |  0.3649319 |  1.094796  | -0.1800857 | -0.5402570 |  0.4893202 |  1.4679606 |  0.2912995 |  0.8738986 | -0.2523390 | -0.7570169 | \n",
       "| week       | -0.1498985 | 0          | 0          | 0          | 0          | 0          | 0          | 0          | 0          | ...        |  1.5446439 |  1.544644  |  0.4975927 |  0.4975927 |  1.9688073 |  1.9688073 |  1.8590120 |  1.8590120 | -0.1110699 | -0.1110699 | \n",
       "\n",
       "\n"
      ],
      "text/plain": [
       "  label payment_mean join_num is_join wk1 wk2 wk3 wk4 wk5 wk6 ... mean_npc_exp\n",
       "1 week  -0.1498985   0        0       0   0   0   0   0   0   ...  2.9106849  \n",
       "2 week  -0.1498985   0        0       0   0   0   0   1   1   ...  2.7291466  \n",
       "3 week  -0.1498985   0        0       0   0   0   0   0   0   ...  2.9162327  \n",
       "4 week   5.3432672   0        0       0   0   0   0   0   0   ... -0.2318740  \n",
       "5 week  -0.1498985   0        0       0   0   0   0   0   1   ...  0.3649319  \n",
       "6 week  -0.1498985   0        0       0   0   0   0   0   0   ...  1.5446439  \n",
       "  sum_npc_exp mean_npc_hongmun sum_npc_hongmun mean_quest_exp sum_quest_exp\n",
       "1  2.910685   -0.2681098       -0.2681098       2.8522409      2.8522409   \n",
       "2 10.916586   -0.1546110       -0.6184440       2.5097645     10.0390580   \n",
       "3  2.916233   -0.2782909       -0.2782909       2.4315540      2.4315540   \n",
       "4 -0.231874   -0.2908032       -0.2908032      -0.2504234     -0.2504234   \n",
       "5  1.094796   -0.1800857       -0.5402570       0.4893202      1.4679606   \n",
       "6  1.544644    0.4975927        0.4975927       1.9688073      1.9688073   \n",
       "  mean_quest_hongmun sum_quest_hongmun mean_item_hongmun sum_item_hongmun\n",
       "1  2.3329102          2.3329102        -0.3063536        -0.3063536      \n",
       "2  1.8400401          7.3601603        -0.2066343        -0.8265370      \n",
       "3  1.2610653          1.2610653        -0.3063536        -0.3063536      \n",
       "4 -0.4876662         -0.4876662        -0.3063536        -0.3063536      \n",
       "5  0.2912995          0.8738986        -0.2523390        -0.7570169      \n",
       "6  1.8590120          1.8590120        -0.1110699        -0.1110699      "
      ]
     },
     "metadata": {},
     "output_type": "display_data"
    }
   ],
   "source": [
    "third.df <- label  %>% \n",
    "  left_join(pay, by = \"acc_id\") %>%\n",
    "  left_join(guild_join, by = \"acc_id\") %>% \n",
    "  mutate(join_num = ifelse(is.na(join_num), 0, join_num),\n",
    "         is_join = ifelse(join_num > 0, \"1\", \"0\") %>% factor()) %>%\n",
    "  left_join(week, by = \"acc_id\") %>%\n",
    "  left_join(time, by = \"acc_id\") %>%\n",
    "  left_join(battle, by = \"acc_id\") %>%\n",
    "  left_join(exp, by = \"acc_id\") %>%\n",
    "  mutate(wk1 = factor(wk1),\n",
    "         wk2 = factor(wk2),\n",
    "         wk3 = factor(wk3),\n",
    "         wk4 = factor(wk4),\n",
    "         wk5 = factor(wk5),\n",
    "         wk6 = factor(wk6)) %>%\n",
    "  select(-acc_id)\n",
    "head(third.df)"
   ]
  },
  {
   "cell_type": "markdown",
   "metadata": {},
   "source": [
    "# 6. Prediction"
   ]
  },
  {
   "cell_type": "markdown",
   "metadata": {},
   "source": [
    "## 6.1 Predict - payment / guild"
   ]
  },
  {
   "cell_type": "code",
   "execution_count": 20,
   "metadata": {},
   "outputs": [],
   "source": [
    "base_reduced  <- predict_churn(base.df, \"payment / guild\", binary = T) # Binary\n",
    "base  <- predict_churn(base.df,\"payment / guild\", binary = F) # Multi"
   ]
  },
  {
   "cell_type": "markdown",
   "metadata": {},
   "source": [
    "## 6.2 Predict - payment / guild / time"
   ]
  },
  {
   "cell_type": "code",
   "execution_count": 21,
   "metadata": {
    "scrolled": true
   },
   "outputs": [],
   "source": [
    "first_reduced <- predict_churn(first.df, \"payment / guild / time\", binary = T) # Binary\n",
    "first <- predict_churn(first.df, \"payment / guild / time\", binary = F) # Multi"
   ]
  },
  {
   "cell_type": "markdown",
   "metadata": {},
   "source": [
    "## 6.3 Predict  - payment / guild / time / battle"
   ]
  },
  {
   "cell_type": "code",
   "execution_count": 22,
   "metadata": {},
   "outputs": [],
   "source": [
    "second_reduced <- predict_churn(second.df, \"payment / guild / time / battle\", binary = T) # Binary\n",
    "second <- predict_churn(second.df, \"payment / guild / time / battle\", binary = F) # Multi"
   ]
  },
  {
   "cell_type": "markdown",
   "metadata": {},
   "source": [
    "## 6.4 Predict - payment / guild / time / battle / exp"
   ]
  },
  {
   "cell_type": "code",
   "execution_count": 23,
   "metadata": {},
   "outputs": [],
   "source": [
    "third_reduced <- predict_churn(third.df, \"payment / guild / time / battle / exp\", binary = T) # Binary\n",
    "third <- predict_churn(third.df, \"payment / guild / time / battle / exp\", binary = F) # Multi"
   ]
  },
  {
   "cell_type": "markdown",
   "metadata": {},
   "source": [
    "# 7. Summarize"
   ]
  },
  {
   "cell_type": "markdown",
   "metadata": {},
   "source": [
    "## 7.1 Comare Accuracy"
   ]
  },
  {
   "cell_type": "code",
   "execution_count": 24,
   "metadata": {
    "scrolled": true
   },
   "outputs": [],
   "source": [
    "result <- summarize_result(base_reduced) %>%\n",
    "  bind_rows(summarize_result(base)) %>%\n",
    "  bind_rows(summarize_result(first_reduced)) %>%\n",
    "  bind_rows(summarize_result(first)) %>%\n",
    "  bind_rows(summarize_result(second_reduced)) %>%\n",
    "  bind_rows(summarize_result(second)) %>%\n",
    "  bind_rows(summarize_result(third_reduced)) %>%\n",
    "  bind_rows(summarize_result(third)) %>%\n",
    "  mutate(method = factor(method, levels = c(\"logistic\", \"decision tree\", \"random forest\")))"
   ]
  },
  {
   "cell_type": "code",
   "execution_count": 25,
   "metadata": {},
   "outputs": [
    {
     "data": {
      "text/html": [
       "<table>\n",
       "<thead><tr><th scope=col>data</th><th scope=col>target</th><th scope=col>method</th><th scope=col>accuracy</th><th scope=col>F1</th></tr></thead>\n",
       "<tbody>\n",
       "\t<tr><td>payment / guild / time / battle / exp</td><td>2-Class                              </td><td>random forest                        </td><td>0.8872333                            </td><td>0.9259624                            </td></tr>\n",
       "\t<tr><td>payment / guild / time / battle / exp</td><td>4-Class                              </td><td>decision tree                        </td><td>0.6725333                            </td><td>0.6609431                            </td></tr>\n",
       "\t<tr><td>payment / guild / time / battle / exp</td><td>4-Class                              </td><td>random forest                        </td><td>0.7058000                            </td><td>0.6609431                            </td></tr>\n",
       "</tbody>\n",
       "</table>\n"
      ],
      "text/latex": [
       "\\begin{tabular}{r|lllll}\n",
       " data & target & method & accuracy & F1\\\\\n",
       "\\hline\n",
       "\t payment / guild / time / battle / exp & 2-Class                               & random forest                         & 0.8872333                             & 0.9259624                            \\\\\n",
       "\t payment / guild / time / battle / exp & 4-Class                               & decision tree                         & 0.6725333                             & 0.6609431                            \\\\\n",
       "\t payment / guild / time / battle / exp & 4-Class                               & random forest                         & 0.7058000                             & 0.6609431                            \\\\\n",
       "\\end{tabular}\n"
      ],
      "text/markdown": [
       "\n",
       "data | target | method | accuracy | F1 | \n",
       "|---|---|---|\n",
       "| payment / guild / time / battle / exp | 2-Class                               | random forest                         | 0.8872333                             | 0.9259624                             | \n",
       "| payment / guild / time / battle / exp | 4-Class                               | decision tree                         | 0.6725333                             | 0.6609431                             | \n",
       "| payment / guild / time / battle / exp | 4-Class                               | random forest                         | 0.7058000                             | 0.6609431                             | \n",
       "\n",
       "\n"
      ],
      "text/plain": [
       "  data                                  target  method        accuracy \n",
       "1 payment / guild / time / battle / exp 2-Class random forest 0.8872333\n",
       "2 payment / guild / time / battle / exp 4-Class decision tree 0.6725333\n",
       "3 payment / guild / time / battle / exp 4-Class random forest 0.7058000\n",
       "  F1       \n",
       "1 0.9259624\n",
       "2 0.6609431\n",
       "3 0.6609431"
      ]
     },
     "metadata": {},
     "output_type": "display_data"
    }
   ],
   "source": [
    "result %>% group_by(target) %>% top_n(1, F1)"
   ]
  },
  {
   "cell_type": "code",
   "execution_count": 26,
   "metadata": {},
   "outputs": [
    {
     "data": {},
     "metadata": {},
     "output_type": "display_data"
    },
    {
     "data": {
      "image/png": "[encoded data removed]",
      "text/plain": [
       "plot without title"
      ]
     },
     "metadata": {},
     "output_type": "display_data"
    }
   ],
   "source": [
    "result %>% gather(key = \"measure\", value = \"value\", accuracy, F1) %>%\n",
    "  ggplot(aes(method, value, fill = data)) + geom_bar(stat = \"identity\", position = \"dodge\") + \n",
    "  facet_grid(measure ~ target, scales = \"free\") +\n",
    "  geom_text(aes(label = round(value, 2), y = value + 0.05), size = 3, position = position_dodge(width = 1)) + \n",
    "  scale_fill_manual(name = \"data\", values = c(\"firebrick4\", \"steelblue\", \"limegreen\", \"yellow3\")) +\n",
    "  theme(axis.text.x = element_text(angle = 25, hjust = 1))"
   ]
  },
  {
   "cell_type": "markdown",
   "metadata": {},
   "source": [
    "## 7.2 Variable Importance"
   ]
  },
  {
   "cell_type": "code",
   "execution_count": 27,
   "metadata": {
    "scrolled": false
   },
   "outputs": [
    {
     "data": {
      "text/html": [
       "<table>\n",
       "<thead><tr><th></th><th scope=col>Overall</th></tr></thead>\n",
       "<tbody>\n",
       "\t<tr><th scope=row>payment_mean</th><td>1212.9198</td></tr>\n",
       "\t<tr><th scope=row>join_num</th><td>1567.5135</td></tr>\n",
       "\t<tr><th scope=row>is_join</th><td>1276.9421</td></tr>\n",
       "\t<tr><th scope=row>wk1</th><td>1530.6010</td></tr>\n",
       "\t<tr><th scope=row>wk2</th><td> 240.0963</td></tr>\n",
       "\t<tr><th scope=row>wk3</th><td> 617.0624</td></tr>\n",
       "\t<tr><th scope=row>wk4</th><td> 270.2094</td></tr>\n",
       "\t<tr><th scope=row>wk5</th><td> 455.7313</td></tr>\n",
       "\t<tr><th scope=row>wk6</th><td> 288.7577</td></tr>\n",
       "\t<tr><th scope=row>wk_num</th><td>2392.1201</td></tr>\n",
       "\t<tr><th scope=row>access_mean</th><td>1221.8008</td></tr>\n",
       "\t<tr><th scope=row>time_mean</th><td>2073.6958</td></tr>\n",
       "</tbody>\n",
       "</table>\n"
      ],
      "text/latex": [
       "\\begin{tabular}{r|l}\n",
       "  & Overall\\\\\n",
       "\\hline\n",
       "\tpayment\\_mean & 1212.9198\\\\\n",
       "\tjoin\\_num & 1567.5135\\\\\n",
       "\tis\\_join & 1276.9421\\\\\n",
       "\twk1 & 1530.6010\\\\\n",
       "\twk2 &  240.0963\\\\\n",
       "\twk3 &  617.0624\\\\\n",
       "\twk4 &  270.2094\\\\\n",
       "\twk5 &  455.7313\\\\\n",
       "\twk6 &  288.7577\\\\\n",
       "\twk\\_num & 2392.1201\\\\\n",
       "\taccess\\_mean & 1221.8008\\\\\n",
       "\ttime\\_mean & 2073.6958\\\\\n",
       "\\end{tabular}\n"
      ],
      "text/markdown": [
       "\n",
       "| <!--/--> | Overall | \n",
       "|---|---|---|---|---|---|---|---|---|---|---|---|\n",
       "| payment_mean | 1212.9198 | \n",
       "| join_num | 1567.5135 | \n",
       "| is_join | 1276.9421 | \n",
       "| wk1 | 1530.6010 | \n",
       "| wk2 |  240.0963 | \n",
       "| wk3 |  617.0624 | \n",
       "| wk4 |  270.2094 | \n",
       "| wk5 |  455.7313 | \n",
       "| wk6 |  288.7577 | \n",
       "| wk_num | 2392.1201 | \n",
       "| access_mean | 1221.8008 | \n",
       "| time_mean | 2073.6958 | \n",
       "\n",
       "\n"
      ],
      "text/plain": [
       "             Overall  \n",
       "payment_mean 1212.9198\n",
       "join_num     1567.5135\n",
       "is_join      1276.9421\n",
       "wk1          1530.6010\n",
       "wk2           240.0963\n",
       "wk3           617.0624\n",
       "wk4           270.2094\n",
       "wk5           455.7313\n",
       "wk6           288.7577\n",
       "wk_num       2392.1201\n",
       "access_mean  1221.8008\n",
       "time_mean    2073.6958"
      ]
     },
     "metadata": {},
     "output_type": "display_data"
    },
    {
     "data": {
      "image/png": "[encoded data removed]",
      "text/plain": [
       "Plot with title \"Variable Importance for 2-Class\""
      ]
     },
     "metadata": {},
     "output_type": "display_data"
    }
   ],
   "source": [
    "varImp(first_reduced$rf.model)\n",
    "varImpPlot(first_reduced$rf.model, main = \"Variable Importance for 2-Class\")"
   ]
  },
  {
   "cell_type": "code",
   "execution_count": 28,
   "metadata": {},
   "outputs": [
    {
     "data": {
      "text/html": [
       "<table>\n",
       "<thead><tr><th></th><th scope=col>Overall</th></tr></thead>\n",
       "<tbody>\n",
       "\t<tr><th scope=row>payment_mean</th><td>1365.0524</td></tr>\n",
       "\t<tr><th scope=row>join_num</th><td>1608.4205</td></tr>\n",
       "\t<tr><th scope=row>is_join</th><td>1149.3698</td></tr>\n",
       "\t<tr><th scope=row>wk1</th><td>1482.3738</td></tr>\n",
       "\t<tr><th scope=row>wk2</th><td> 263.3397</td></tr>\n",
       "\t<tr><th scope=row>wk3</th><td> 499.5838</td></tr>\n",
       "\t<tr><th scope=row>wk4</th><td> 191.4291</td></tr>\n",
       "\t<tr><th scope=row>wk5</th><td> 405.1079</td></tr>\n",
       "\t<tr><th scope=row>wk6</th><td> 303.4994</td></tr>\n",
       "\t<tr><th scope=row>wk_num</th><td>2245.6661</td></tr>\n",
       "\t<tr><th scope=row>access_mean</th><td>1578.5259</td></tr>\n",
       "\t<tr><th scope=row>time_mean</th><td>2701.8220</td></tr>\n",
       "\t<tr><th scope=row>sum_duel_cnt</th><td> 700.4232</td></tr>\n",
       "\t<tr><th scope=row>sum_partybattle_cnt</th><td> 675.6668</td></tr>\n",
       "\t<tr><th scope=row>is_duel</th><td> 148.9721</td></tr>\n",
       "\t<tr><th scope=row>is_partybattle</th><td> 123.1235</td></tr>\n",
       "</tbody>\n",
       "</table>\n"
      ],
      "text/latex": [
       "\\begin{tabular}{r|l}\n",
       "  & Overall\\\\\n",
       "\\hline\n",
       "\tpayment\\_mean & 1365.0524\\\\\n",
       "\tjoin\\_num & 1608.4205\\\\\n",
       "\tis\\_join & 1149.3698\\\\\n",
       "\twk1 & 1482.3738\\\\\n",
       "\twk2 &  263.3397\\\\\n",
       "\twk3 &  499.5838\\\\\n",
       "\twk4 &  191.4291\\\\\n",
       "\twk5 &  405.1079\\\\\n",
       "\twk6 &  303.4994\\\\\n",
       "\twk\\_num & 2245.6661\\\\\n",
       "\taccess\\_mean & 1578.5259\\\\\n",
       "\ttime\\_mean & 2701.8220\\\\\n",
       "\tsum\\_duel\\_cnt &  700.4232\\\\\n",
       "\tsum\\_partybattle\\_cnt &  675.6668\\\\\n",
       "\tis\\_duel &  148.9721\\\\\n",
       "\tis\\_partybattle &  123.1235\\\\\n",
       "\\end{tabular}\n"
      ],
      "text/markdown": [
       "\n",
       "| <!--/--> | Overall | \n",
       "|---|---|---|---|---|---|---|---|---|---|---|---|---|---|---|---|\n",
       "| payment_mean | 1365.0524 | \n",
       "| join_num | 1608.4205 | \n",
       "| is_join | 1149.3698 | \n",
       "| wk1 | 1482.3738 | \n",
       "| wk2 |  263.3397 | \n",
       "| wk3 |  499.5838 | \n",
       "| wk4 |  191.4291 | \n",
       "| wk5 |  405.1079 | \n",
       "| wk6 |  303.4994 | \n",
       "| wk_num | 2245.6661 | \n",
       "| access_mean | 1578.5259 | \n",
       "| time_mean | 2701.8220 | \n",
       "| sum_duel_cnt |  700.4232 | \n",
       "| sum_partybattle_cnt |  675.6668 | \n",
       "| is_duel |  148.9721 | \n",
       "| is_partybattle |  123.1235 | \n",
       "\n",
       "\n"
      ],
      "text/plain": [
       "                    Overall  \n",
       "payment_mean        1365.0524\n",
       "join_num            1608.4205\n",
       "is_join             1149.3698\n",
       "wk1                 1482.3738\n",
       "wk2                  263.3397\n",
       "wk3                  499.5838\n",
       "wk4                  191.4291\n",
       "wk5                  405.1079\n",
       "wk6                  303.4994\n",
       "wk_num              2245.6661\n",
       "access_mean         1578.5259\n",
       "time_mean           2701.8220\n",
       "sum_duel_cnt         700.4232\n",
       "sum_partybattle_cnt  675.6668\n",
       "is_duel              148.9721\n",
       "is_partybattle       123.1235"
      ]
     },
     "metadata": {},
     "output_type": "display_data"
    },
    {
     "data": {
      "image/png": "[encoded data removed]",
      "text/plain": [
       "Plot with title \"Variable Importance for 2-Class\""
      ]
     },
     "metadata": {},
     "output_type": "display_data"
    }
   ],
   "source": [
    "varImp(second_reduced$rf.model)\n",
    "varImpPlot(second_reduced$rf.model, main = \"Variable Importance for 2-Class\")"
   ]
  },
  {
   "cell_type": "code",
   "execution_count": 29,
   "metadata": {},
   "outputs": [
    {
     "data": {
      "text/html": [
       "<table>\n",
       "<thead><tr><th></th><th scope=col>Overall</th></tr></thead>\n",
       "<tbody>\n",
       "\t<tr><th scope=row>payment_mean</th><td>1015.2259</td></tr>\n",
       "\t<tr><th scope=row>join_num</th><td>1458.6638</td></tr>\n",
       "\t<tr><th scope=row>is_join</th><td> 826.3939</td></tr>\n",
       "\t<tr><th scope=row>wk1</th><td>1431.5184</td></tr>\n",
       "\t<tr><th scope=row>wk2</th><td> 498.6443</td></tr>\n",
       "\t<tr><th scope=row>wk3</th><td> 555.1803</td></tr>\n",
       "\t<tr><th scope=row>wk4</th><td> 649.9127</td></tr>\n",
       "\t<tr><th scope=row>wk5</th><td> 650.4967</td></tr>\n",
       "\t<tr><th scope=row>wk6</th><td> 480.8322</td></tr>\n",
       "\t<tr><th scope=row>wk_num</th><td>2752.2307</td></tr>\n",
       "\t<tr><th scope=row>access_mean</th><td>2984.0300</td></tr>\n",
       "\t<tr><th scope=row>time_mean</th><td>8638.4509</td></tr>\n",
       "</tbody>\n",
       "</table>\n"
      ],
      "text/latex": [
       "\\begin{tabular}{r|l}\n",
       "  & Overall\\\\\n",
       "\\hline\n",
       "\tpayment\\_mean & 1015.2259\\\\\n",
       "\tjoin\\_num & 1458.6638\\\\\n",
       "\tis\\_join &  826.3939\\\\\n",
       "\twk1 & 1431.5184\\\\\n",
       "\twk2 &  498.6443\\\\\n",
       "\twk3 &  555.1803\\\\\n",
       "\twk4 &  649.9127\\\\\n",
       "\twk5 &  650.4967\\\\\n",
       "\twk6 &  480.8322\\\\\n",
       "\twk\\_num & 2752.2307\\\\\n",
       "\taccess\\_mean & 2984.0300\\\\\n",
       "\ttime\\_mean & 8638.4509\\\\\n",
       "\\end{tabular}\n"
      ],
      "text/markdown": [
       "\n",
       "| <!--/--> | Overall | \n",
       "|---|---|---|---|---|---|---|---|---|---|---|---|\n",
       "| payment_mean | 1015.2259 | \n",
       "| join_num | 1458.6638 | \n",
       "| is_join |  826.3939 | \n",
       "| wk1 | 1431.5184 | \n",
       "| wk2 |  498.6443 | \n",
       "| wk3 |  555.1803 | \n",
       "| wk4 |  649.9127 | \n",
       "| wk5 |  650.4967 | \n",
       "| wk6 |  480.8322 | \n",
       "| wk_num | 2752.2307 | \n",
       "| access_mean | 2984.0300 | \n",
       "| time_mean | 8638.4509 | \n",
       "\n",
       "\n"
      ],
      "text/plain": [
       "             Overall  \n",
       "payment_mean 1015.2259\n",
       "join_num     1458.6638\n",
       "is_join       826.3939\n",
       "wk1          1431.5184\n",
       "wk2           498.6443\n",
       "wk3           555.1803\n",
       "wk4           649.9127\n",
       "wk5           650.4967\n",
       "wk6           480.8322\n",
       "wk_num       2752.2307\n",
       "access_mean  2984.0300\n",
       "time_mean    8638.4509"
      ]
     },
     "metadata": {},
     "output_type": "display_data"
    },
    {
     "data": {
      "image/png": "[encoded data removed]",
      "text/plain": [
       "Plot with title \"Variable Importance for 4-Class\""
      ]
     },
     "metadata": {},
     "output_type": "display_data"
    }
   ],
   "source": [
    "varImp(first$rf.model)\n",
    "varImpPlot(first$rf.model, main = \"Variable Importance for 4-Class\")"
   ]
  },
  {
   "cell_type": "code",
   "execution_count": 30,
   "metadata": {},
   "outputs": [
    {
     "data": {
      "text/html": [
       "<table>\n",
       "<thead><tr><th></th><th scope=col>Overall</th></tr></thead>\n",
       "<tbody>\n",
       "\t<tr><th scope=row>payment_mean</th><td>1038.8389</td></tr>\n",
       "\t<tr><th scope=row>join_num</th><td>1507.7432</td></tr>\n",
       "\t<tr><th scope=row>is_join</th><td> 915.2115</td></tr>\n",
       "\t<tr><th scope=row>wk1</th><td>1087.5041</td></tr>\n",
       "\t<tr><th scope=row>wk2</th><td> 563.8747</td></tr>\n",
       "\t<tr><th scope=row>wk3</th><td> 427.2732</td></tr>\n",
       "\t<tr><th scope=row>wk4</th><td> 616.5227</td></tr>\n",
       "\t<tr><th scope=row>wk5</th><td> 603.5223</td></tr>\n",
       "\t<tr><th scope=row>wk6</th><td> 448.6449</td></tr>\n",
       "\t<tr><th scope=row>wk_num</th><td>2196.9482</td></tr>\n",
       "\t<tr><th scope=row>access_mean</th><td>3399.8520</td></tr>\n",
       "\t<tr><th scope=row>time_mean</th><td>9378.6356</td></tr>\n",
       "\t<tr><th scope=row>sum_duel_cnt</th><td>1033.3662</td></tr>\n",
       "\t<tr><th scope=row>sum_partybattle_cnt</th><td>1166.7461</td></tr>\n",
       "\t<tr><th scope=row>is_duel</th><td> 222.4315</td></tr>\n",
       "\t<tr><th scope=row>is_partybattle</th><td> 285.7196</td></tr>\n",
       "</tbody>\n",
       "</table>\n"
      ],
      "text/latex": [
       "\\begin{tabular}{r|l}\n",
       "  & Overall\\\\\n",
       "\\hline\n",
       "\tpayment\\_mean & 1038.8389\\\\\n",
       "\tjoin\\_num & 1507.7432\\\\\n",
       "\tis\\_join &  915.2115\\\\\n",
       "\twk1 & 1087.5041\\\\\n",
       "\twk2 &  563.8747\\\\\n",
       "\twk3 &  427.2732\\\\\n",
       "\twk4 &  616.5227\\\\\n",
       "\twk5 &  603.5223\\\\\n",
       "\twk6 &  448.6449\\\\\n",
       "\twk\\_num & 2196.9482\\\\\n",
       "\taccess\\_mean & 3399.8520\\\\\n",
       "\ttime\\_mean & 9378.6356\\\\\n",
       "\tsum\\_duel\\_cnt & 1033.3662\\\\\n",
       "\tsum\\_partybattle\\_cnt & 1166.7461\\\\\n",
       "\tis\\_duel &  222.4315\\\\\n",
       "\tis\\_partybattle &  285.7196\\\\\n",
       "\\end{tabular}\n"
      ],
      "text/markdown": [
       "\n",
       "| <!--/--> | Overall | \n",
       "|---|---|---|---|---|---|---|---|---|---|---|---|---|---|---|---|\n",
       "| payment_mean | 1038.8389 | \n",
       "| join_num | 1507.7432 | \n",
       "| is_join |  915.2115 | \n",
       "| wk1 | 1087.5041 | \n",
       "| wk2 |  563.8747 | \n",
       "| wk3 |  427.2732 | \n",
       "| wk4 |  616.5227 | \n",
       "| wk5 |  603.5223 | \n",
       "| wk6 |  448.6449 | \n",
       "| wk_num | 2196.9482 | \n",
       "| access_mean | 3399.8520 | \n",
       "| time_mean | 9378.6356 | \n",
       "| sum_duel_cnt | 1033.3662 | \n",
       "| sum_partybattle_cnt | 1166.7461 | \n",
       "| is_duel |  222.4315 | \n",
       "| is_partybattle |  285.7196 | \n",
       "\n",
       "\n"
      ],
      "text/plain": [
       "                    Overall  \n",
       "payment_mean        1038.8389\n",
       "join_num            1507.7432\n",
       "is_join              915.2115\n",
       "wk1                 1087.5041\n",
       "wk2                  563.8747\n",
       "wk3                  427.2732\n",
       "wk4                  616.5227\n",
       "wk5                  603.5223\n",
       "wk6                  448.6449\n",
       "wk_num              2196.9482\n",
       "access_mean         3399.8520\n",
       "time_mean           9378.6356\n",
       "sum_duel_cnt        1033.3662\n",
       "sum_partybattle_cnt 1166.7461\n",
       "is_duel              222.4315\n",
       "is_partybattle       285.7196"
      ]
     },
     "metadata": {},
     "output_type": "display_data"
    },
    {
     "data": {
      "image/png": "[encoded data removed]",
      "text/plain": [
       "Plot with title \"Variable Importance for 4-Class\""
      ]
     },
     "metadata": {},
     "output_type": "display_data"
    }
   ],
   "source": [
    "varImp(second$rf.model)\n",
    "varImpPlot(second$rf.model, main = \"Variable Importance for 4-Class\")"
   ]
  },
  {
   "cell_type": "code",
   "execution_count": 31,
   "metadata": {},
   "outputs": [
    {
     "data": {
      "text/html": [
       "<table>\n",
       "<thead><tr><th></th><th scope=col>Overall</th></tr></thead>\n",
       "<tbody>\n",
       "\t<tr><th scope=row>payment_mean</th><td> 770.37878</td></tr>\n",
       "\t<tr><th scope=row>join_num</th><td> 883.73834</td></tr>\n",
       "\t<tr><th scope=row>is_join</th><td> 870.90784</td></tr>\n",
       "\t<tr><th scope=row>wk1</th><td> 871.82146</td></tr>\n",
       "\t<tr><th scope=row>wk2</th><td> 226.66315</td></tr>\n",
       "\t<tr><th scope=row>wk3</th><td> 245.26415</td></tr>\n",
       "\t<tr><th scope=row>wk4</th><td>  89.43746</td></tr>\n",
       "\t<tr><th scope=row>wk5</th><td> 224.46199</td></tr>\n",
       "\t<tr><th scope=row>wk6</th><td> 258.77981</td></tr>\n",
       "\t<tr><th scope=row>wk_num</th><td>1182.14912</td></tr>\n",
       "\t<tr><th scope=row>access_mean</th><td>1129.15982</td></tr>\n",
       "\t<tr><th scope=row>time_mean</th><td>1669.02162</td></tr>\n",
       "\t<tr><th scope=row>sum_duel_cnt</th><td> 424.98353</td></tr>\n",
       "\t<tr><th scope=row>sum_partybattle_cnt</th><td> 448.51838</td></tr>\n",
       "\t<tr><th scope=row>is_duel</th><td>  97.81264</td></tr>\n",
       "\t<tr><th scope=row>is_partybattle</th><td>  86.88574</td></tr>\n",
       "\t<tr><th scope=row>mean_npc_exp</th><td> 399.05826</td></tr>\n",
       "\t<tr><th scope=row>sum_npc_exp</th><td> 984.38563</td></tr>\n",
       "\t<tr><th scope=row>mean_npc_hongmun</th><td> 855.21598</td></tr>\n",
       "\t<tr><th scope=row>sum_npc_hongmun</th><td> 894.09693</td></tr>\n",
       "\t<tr><th scope=row>mean_quest_exp</th><td> 420.42937</td></tr>\n",
       "\t<tr><th scope=row>sum_quest_exp</th><td>1044.39193</td></tr>\n",
       "\t<tr><th scope=row>mean_quest_hongmun</th><td>1183.89988</td></tr>\n",
       "\t<tr><th scope=row>sum_quest_hongmun</th><td>1057.85931</td></tr>\n",
       "\t<tr><th scope=row>mean_item_hongmun</th><td>2401.96201</td></tr>\n",
       "\t<tr><th scope=row>sum_item_hongmun</th><td>2236.07779</td></tr>\n",
       "</tbody>\n",
       "</table>\n"
      ],
      "text/latex": [
       "\\begin{tabular}{r|l}\n",
       "  & Overall\\\\\n",
       "\\hline\n",
       "\tpayment\\_mean &  770.37878\\\\\n",
       "\tjoin\\_num &  883.73834\\\\\n",
       "\tis\\_join &  870.90784\\\\\n",
       "\twk1 &  871.82146\\\\\n",
       "\twk2 &  226.66315\\\\\n",
       "\twk3 &  245.26415\\\\\n",
       "\twk4 &   89.43746\\\\\n",
       "\twk5 &  224.46199\\\\\n",
       "\twk6 &  258.77981\\\\\n",
       "\twk\\_num & 1182.14912\\\\\n",
       "\taccess\\_mean & 1129.15982\\\\\n",
       "\ttime\\_mean & 1669.02162\\\\\n",
       "\tsum\\_duel\\_cnt &  424.98353\\\\\n",
       "\tsum\\_partybattle\\_cnt &  448.51838\\\\\n",
       "\tis\\_duel &   97.81264\\\\\n",
       "\tis\\_partybattle &   86.88574\\\\\n",
       "\tmean\\_npc\\_exp &  399.05826\\\\\n",
       "\tsum\\_npc\\_exp &  984.38563\\\\\n",
       "\tmean\\_npc\\_hongmun &  855.21598\\\\\n",
       "\tsum\\_npc\\_hongmun &  894.09693\\\\\n",
       "\tmean\\_quest\\_exp &  420.42937\\\\\n",
       "\tsum\\_quest\\_exp & 1044.39193\\\\\n",
       "\tmean\\_quest\\_hongmun & 1183.89988\\\\\n",
       "\tsum\\_quest\\_hongmun & 1057.85931\\\\\n",
       "\tmean\\_item\\_hongmun & 2401.96201\\\\\n",
       "\tsum\\_item\\_hongmun & 2236.07779\\\\\n",
       "\\end{tabular}\n"
      ],
      "text/markdown": [
       "\n",
       "| <!--/--> | Overall | \n",
       "|---|---|---|---|---|---|---|---|---|---|---|---|---|---|---|---|---|---|---|---|---|---|---|---|---|---|\n",
       "| payment_mean |  770.37878 | \n",
       "| join_num |  883.73834 | \n",
       "| is_join |  870.90784 | \n",
       "| wk1 |  871.82146 | \n",
       "| wk2 |  226.66315 | \n",
       "| wk3 |  245.26415 | \n",
       "| wk4 |   89.43746 | \n",
       "| wk5 |  224.46199 | \n",
       "| wk6 |  258.77981 | \n",
       "| wk_num | 1182.14912 | \n",
       "| access_mean | 1129.15982 | \n",
       "| time_mean | 1669.02162 | \n",
       "| sum_duel_cnt |  424.98353 | \n",
       "| sum_partybattle_cnt |  448.51838 | \n",
       "| is_duel |   97.81264 | \n",
       "| is_partybattle |   86.88574 | \n",
       "| mean_npc_exp |  399.05826 | \n",
       "| sum_npc_exp |  984.38563 | \n",
       "| mean_npc_hongmun |  855.21598 | \n",
       "| sum_npc_hongmun |  894.09693 | \n",
       "| mean_quest_exp |  420.42937 | \n",
       "| sum_quest_exp | 1044.39193 | \n",
       "| mean_quest_hongmun | 1183.89988 | \n",
       "| sum_quest_hongmun | 1057.85931 | \n",
       "| mean_item_hongmun | 2401.96201 | \n",
       "| sum_item_hongmun | 2236.07779 | \n",
       "\n",
       "\n"
      ],
      "text/plain": [
       "                    Overall   \n",
       "payment_mean         770.37878\n",
       "join_num             883.73834\n",
       "is_join              870.90784\n",
       "wk1                  871.82146\n",
       "wk2                  226.66315\n",
       "wk3                  245.26415\n",
       "wk4                   89.43746\n",
       "wk5                  224.46199\n",
       "wk6                  258.77981\n",
       "wk_num              1182.14912\n",
       "access_mean         1129.15982\n",
       "time_mean           1669.02162\n",
       "sum_duel_cnt         424.98353\n",
       "sum_partybattle_cnt  448.51838\n",
       "is_duel               97.81264\n",
       "is_partybattle        86.88574\n",
       "mean_npc_exp         399.05826\n",
       "sum_npc_exp          984.38563\n",
       "mean_npc_hongmun     855.21598\n",
       "sum_npc_hongmun      894.09693\n",
       "mean_quest_exp       420.42937\n",
       "sum_quest_exp       1044.39193\n",
       "mean_quest_hongmun  1183.89988\n",
       "sum_quest_hongmun   1057.85931\n",
       "mean_item_hongmun   2401.96201\n",
       "sum_item_hongmun    2236.07779"
      ]
     },
     "metadata": {},
     "output_type": "display_data"
    },
    {
     "data": {
      "image/png": "[encoded data removed]",
      "text/plain": [
       "Plot with title \"Variable Importance for 2-Class\""
      ]
     },
     "metadata": {},
     "output_type": "display_data"
    }
   ],
   "source": [
    "varImp(third_reduced$rf.model)\n",
    "varImpPlot(third_reduced$rf.model, main = \"Variable Importance for 2-Class\")"
   ]
  },
  {
   "cell_type": "code",
   "execution_count": 32,
   "metadata": {},
   "outputs": [
    {
     "data": {
      "text/html": [
       "<table>\n",
       "<thead><tr><th></th><th scope=col>Overall</th></tr></thead>\n",
       "<tbody>\n",
       "\t<tr><th scope=row>payment_mean</th><td> 507.8040</td></tr>\n",
       "\t<tr><th scope=row>join_num</th><td> 784.7960</td></tr>\n",
       "\t<tr><th scope=row>is_join</th><td> 432.7273</td></tr>\n",
       "\t<tr><th scope=row>wk1</th><td> 883.1084</td></tr>\n",
       "\t<tr><th scope=row>wk2</th><td> 191.3365</td></tr>\n",
       "\t<tr><th scope=row>wk3</th><td> 233.3913</td></tr>\n",
       "\t<tr><th scope=row>wk4</th><td> 247.5083</td></tr>\n",
       "\t<tr><th scope=row>wk5</th><td> 214.6942</td></tr>\n",
       "\t<tr><th scope=row>wk6</th><td> 319.0152</td></tr>\n",
       "\t<tr><th scope=row>wk_num</th><td>1072.5003</td></tr>\n",
       "\t<tr><th scope=row>access_mean</th><td>2773.0308</td></tr>\n",
       "\t<tr><th scope=row>time_mean</th><td>4295.8490</td></tr>\n",
       "\t<tr><th scope=row>sum_duel_cnt</th><td> 577.0128</td></tr>\n",
       "\t<tr><th scope=row>sum_partybattle_cnt</th><td> 710.0392</td></tr>\n",
       "\t<tr><th scope=row>is_duel</th><td> 132.0248</td></tr>\n",
       "\t<tr><th scope=row>is_partybattle</th><td> 206.8149</td></tr>\n",
       "\t<tr><th scope=row>mean_npc_exp</th><td>2155.8792</td></tr>\n",
       "\t<tr><th scope=row>sum_npc_exp</th><td>1782.0043</td></tr>\n",
       "\t<tr><th scope=row>mean_npc_hongmun</th><td>2245.8951</td></tr>\n",
       "\t<tr><th scope=row>sum_npc_hongmun</th><td>1816.9620</td></tr>\n",
       "\t<tr><th scope=row>mean_quest_exp</th><td>2081.3019</td></tr>\n",
       "\t<tr><th scope=row>sum_quest_exp</th><td>2801.7633</td></tr>\n",
       "\t<tr><th scope=row>mean_quest_hongmun</th><td>2087.6631</td></tr>\n",
       "\t<tr><th scope=row>sum_quest_hongmun</th><td>2223.2879</td></tr>\n",
       "\t<tr><th scope=row>mean_item_hongmun</th><td>3009.7667</td></tr>\n",
       "\t<tr><th scope=row>sum_item_hongmun</th><td>2386.0198</td></tr>\n",
       "</tbody>\n",
       "</table>\n"
      ],
      "text/latex": [
       "\\begin{tabular}{r|l}\n",
       "  & Overall\\\\\n",
       "\\hline\n",
       "\tpayment\\_mean &  507.8040\\\\\n",
       "\tjoin\\_num &  784.7960\\\\\n",
       "\tis\\_join &  432.7273\\\\\n",
       "\twk1 &  883.1084\\\\\n",
       "\twk2 &  191.3365\\\\\n",
       "\twk3 &  233.3913\\\\\n",
       "\twk4 &  247.5083\\\\\n",
       "\twk5 &  214.6942\\\\\n",
       "\twk6 &  319.0152\\\\\n",
       "\twk\\_num & 1072.5003\\\\\n",
       "\taccess\\_mean & 2773.0308\\\\\n",
       "\ttime\\_mean & 4295.8490\\\\\n",
       "\tsum\\_duel\\_cnt &  577.0128\\\\\n",
       "\tsum\\_partybattle\\_cnt &  710.0392\\\\\n",
       "\tis\\_duel &  132.0248\\\\\n",
       "\tis\\_partybattle &  206.8149\\\\\n",
       "\tmean\\_npc\\_exp & 2155.8792\\\\\n",
       "\tsum\\_npc\\_exp & 1782.0043\\\\\n",
       "\tmean\\_npc\\_hongmun & 2245.8951\\\\\n",
       "\tsum\\_npc\\_hongmun & 1816.9620\\\\\n",
       "\tmean\\_quest\\_exp & 2081.3019\\\\\n",
       "\tsum\\_quest\\_exp & 2801.7633\\\\\n",
       "\tmean\\_quest\\_hongmun & 2087.6631\\\\\n",
       "\tsum\\_quest\\_hongmun & 2223.2879\\\\\n",
       "\tmean\\_item\\_hongmun & 3009.7667\\\\\n",
       "\tsum\\_item\\_hongmun & 2386.0198\\\\\n",
       "\\end{tabular}\n"
      ],
      "text/markdown": [
       "\n",
       "| <!--/--> | Overall | \n",
       "|---|---|---|---|---|---|---|---|---|---|---|---|---|---|---|---|---|---|---|---|---|---|---|---|---|---|\n",
       "| payment_mean |  507.8040 | \n",
       "| join_num |  784.7960 | \n",
       "| is_join |  432.7273 | \n",
       "| wk1 |  883.1084 | \n",
       "| wk2 |  191.3365 | \n",
       "| wk3 |  233.3913 | \n",
       "| wk4 |  247.5083 | \n",
       "| wk5 |  214.6942 | \n",
       "| wk6 |  319.0152 | \n",
       "| wk_num | 1072.5003 | \n",
       "| access_mean | 2773.0308 | \n",
       "| time_mean | 4295.8490 | \n",
       "| sum_duel_cnt |  577.0128 | \n",
       "| sum_partybattle_cnt |  710.0392 | \n",
       "| is_duel |  132.0248 | \n",
       "| is_partybattle |  206.8149 | \n",
       "| mean_npc_exp | 2155.8792 | \n",
       "| sum_npc_exp | 1782.0043 | \n",
       "| mean_npc_hongmun | 2245.8951 | \n",
       "| sum_npc_hongmun | 1816.9620 | \n",
       "| mean_quest_exp | 2081.3019 | \n",
       "| sum_quest_exp | 2801.7633 | \n",
       "| mean_quest_hongmun | 2087.6631 | \n",
       "| sum_quest_hongmun | 2223.2879 | \n",
       "| mean_item_hongmun | 3009.7667 | \n",
       "| sum_item_hongmun | 2386.0198 | \n",
       "\n",
       "\n"
      ],
      "text/plain": [
       "                    Overall  \n",
       "payment_mean         507.8040\n",
       "join_num             784.7960\n",
       "is_join              432.7273\n",
       "wk1                  883.1084\n",
       "wk2                  191.3365\n",
       "wk3                  233.3913\n",
       "wk4                  247.5083\n",
       "wk5                  214.6942\n",
       "wk6                  319.0152\n",
       "wk_num              1072.5003\n",
       "access_mean         2773.0308\n",
       "time_mean           4295.8490\n",
       "sum_duel_cnt         577.0128\n",
       "sum_partybattle_cnt  710.0392\n",
       "is_duel              132.0248\n",
       "is_partybattle       206.8149\n",
       "mean_npc_exp        2155.8792\n",
       "sum_npc_exp         1782.0043\n",
       "mean_npc_hongmun    2245.8951\n",
       "sum_npc_hongmun     1816.9620\n",
       "mean_quest_exp      2081.3019\n",
       "sum_quest_exp       2801.7633\n",
       "mean_quest_hongmun  2087.6631\n",
       "sum_quest_hongmun   2223.2879\n",
       "mean_item_hongmun   3009.7667\n",
       "sum_item_hongmun    2386.0198"
      ]
     },
     "metadata": {},
     "output_type": "display_data"
    },
    {
     "data": {
      "image/png": "[encoded data removed]",
      "text/plain": [
       "Plot with title \"Variable Importance for 4-Class\""
      ]
     },
     "metadata": {},
     "output_type": "display_data"
    }
   ],
   "source": [
    "varImp(third$rf.model)\n",
    "varImpPlot(third$rf.model, main = \"Variable Importance for 4-Class\")"
   ]
  },
  {
   "cell_type": "code",
   "execution_count": null,
   "metadata": {},
   "outputs": [],
   "source": []
  }
 ],
 "metadata": {
  "kernelspec": {
   "display_name": "R",
   "language": "R",
   "name": "ir"
  },
  "language_info": {
   "codemirror_mode": "r",
   "file_extension": ".r",
   "mimetype": "text/x-r-source",
   "name": "R",
   "pygments_lexer": "r",
   "version": "3.4.3"
  }
 },
 "nbformat": 4,
 "nbformat_minor": 2
}
